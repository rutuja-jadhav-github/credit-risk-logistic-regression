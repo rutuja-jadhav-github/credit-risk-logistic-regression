{
 "cells": [
  {
   "cell_type": "markdown",
   "metadata": {},
   "source": [
    "# Data Preparation"
   ]
  },
  {
   "cell_type": "markdown",
   "metadata": {},
   "source": [
    "## Import Libraries"
   ]
  },
  {
   "cell_type": "code",
   "execution_count": 1,
   "metadata": {
    "ExecuteTime": {
     "end_time": "2024-02-18T08:38:08.316610Z",
     "start_time": "2024-02-18T08:38:07.948834Z"
    }
   },
   "outputs": [],
   "source": [
    "import numpy as np\n",
    "import pandas as pd\n"
   ]
  },
  {
   "cell_type": "markdown",
   "metadata": {},
   "source": [
    "## Import Data"
   ]
  },
  {
   "cell_type": "code",
   "execution_count": 2,
   "metadata": {
    "ExecuteTime": {
     "end_time": "2024-02-18T08:38:10.215711Z",
     "start_time": "2024-02-18T08:38:08.318396Z"
    }
   },
   "outputs": [
    {
     "name": "stderr",
     "output_type": "stream",
     "text": [
      "/var/folders/s3/mby87d114_g07sh3cl6ysz2r0000gn/T/ipykernel_1204/348723264.py:1: DtypeWarning: Columns (20) have mixed types. Specify dtype option on import or set low_memory=False.\n",
      "  loan_data_backup = pd.read_csv('/Users/rutujajadhav/Desktop/Credit Risk Udemy/loan_data_2007_2014.csv')\n"
     ]
    }
   ],
   "source": [
    "loan_data_backup = pd.read_csv('/Users/rutujajadhav/Desktop/Credit Risk Udemy/loan_data_2007_2014.csv')"
   ]
  },
  {
   "cell_type": "code",
   "outputs": [],
   "source": [
    "loan_data = loan_data_backup.copy()"
   ],
   "metadata": {
    "collapsed": false,
    "ExecuteTime": {
     "end_time": "2024-02-18T08:38:10.278997Z",
     "start_time": "2024-02-18T08:38:10.215508Z"
    }
   },
   "execution_count": 3
  },
  {
   "cell_type": "markdown",
   "metadata": {},
   "source": [
    "## Explore Data"
   ]
  },
  {
   "cell_type": "code",
   "execution_count": 4,
   "metadata": {
    "ExecuteTime": {
     "end_time": "2024-02-18T08:38:10.336575Z",
     "start_time": "2024-02-18T08:38:10.281160Z"
    }
   },
   "outputs": [
    {
     "data": {
      "text/plain": "        Unnamed: 0       id  member_id  loan_amnt  funded_amnt  \\\n0                0  1077501    1296599       5000         5000   \n1                1  1077430    1314167       2500         2500   \n2                2  1077175    1313524       2400         2400   \n3                3  1076863    1277178      10000        10000   \n4                4  1075358    1311748       3000         3000   \n...            ...      ...        ...        ...          ...   \n466280      466280  8598660    1440975      18400        18400   \n466281      466281  9684700   11536848      22000        22000   \n466282      466282  9584776   11436914      20700        20700   \n466283      466283  9604874   11457002       2000         2000   \n466284      466284  9199665   11061576      10000        10000   \n\n        funded_amnt_inv        term  int_rate  installment grade  ...  \\\n0                4975.0   36 months     10.65       162.87     B  ...   \n1                2500.0   60 months     15.27        59.83     C  ...   \n2                2400.0   36 months     15.96        84.33     C  ...   \n3               10000.0   36 months     13.49       339.31     C  ...   \n4                3000.0   60 months     12.69        67.79     B  ...   \n...                 ...         ...       ...          ...   ...  ...   \n466280          18400.0   60 months     14.47       432.64     C  ...   \n466281          22000.0   60 months     19.97       582.50     D  ...   \n466282          20700.0   60 months     16.99       514.34     D  ...   \n466283           2000.0   36 months      7.90        62.59     A  ...   \n466284           9975.0   36 months     19.20       367.58     D  ...   \n\n       total_bal_il il_util open_rv_12m open_rv_24m  max_bal_bc all_util  \\\n0               NaN     NaN         NaN         NaN         NaN      NaN   \n1               NaN     NaN         NaN         NaN         NaN      NaN   \n2               NaN     NaN         NaN         NaN         NaN      NaN   \n3               NaN     NaN         NaN         NaN         NaN      NaN   \n4               NaN     NaN         NaN         NaN         NaN      NaN   \n...             ...     ...         ...         ...         ...      ...   \n466280          NaN     NaN         NaN         NaN         NaN      NaN   \n466281          NaN     NaN         NaN         NaN         NaN      NaN   \n466282          NaN     NaN         NaN         NaN         NaN      NaN   \n466283          NaN     NaN         NaN         NaN         NaN      NaN   \n466284          NaN     NaN         NaN         NaN         NaN      NaN   \n\n       total_rev_hi_lim inq_fi total_cu_tl inq_last_12m  \n0                   NaN    NaN         NaN          NaN  \n1                   NaN    NaN         NaN          NaN  \n2                   NaN    NaN         NaN          NaN  \n3                   NaN    NaN         NaN          NaN  \n4                   NaN    NaN         NaN          NaN  \n...                 ...    ...         ...          ...  \n466280          29900.0    NaN         NaN          NaN  \n466281          39400.0    NaN         NaN          NaN  \n466282          13100.0    NaN         NaN          NaN  \n466283          53100.0    NaN         NaN          NaN  \n466284          16000.0    NaN         NaN          NaN  \n\n[466285 rows x 75 columns]",
      "text/html": "<div>\n<style scoped>\n    .dataframe tbody tr th:only-of-type {\n        vertical-align: middle;\n    }\n\n    .dataframe tbody tr th {\n        vertical-align: top;\n    }\n\n    .dataframe thead th {\n        text-align: right;\n    }\n</style>\n<table border=\"1\" class=\"dataframe\">\n  <thead>\n    <tr style=\"text-align: right;\">\n      <th></th>\n      <th>Unnamed: 0</th>\n      <th>id</th>\n      <th>member_id</th>\n      <th>loan_amnt</th>\n      <th>funded_amnt</th>\n      <th>funded_amnt_inv</th>\n      <th>term</th>\n      <th>int_rate</th>\n      <th>installment</th>\n      <th>grade</th>\n      <th>...</th>\n      <th>total_bal_il</th>\n      <th>il_util</th>\n      <th>open_rv_12m</th>\n      <th>open_rv_24m</th>\n      <th>max_bal_bc</th>\n      <th>all_util</th>\n      <th>total_rev_hi_lim</th>\n      <th>inq_fi</th>\n      <th>total_cu_tl</th>\n      <th>inq_last_12m</th>\n    </tr>\n  </thead>\n  <tbody>\n    <tr>\n      <th>0</th>\n      <td>0</td>\n      <td>1077501</td>\n      <td>1296599</td>\n      <td>5000</td>\n      <td>5000</td>\n      <td>4975.0</td>\n      <td>36 months</td>\n      <td>10.65</td>\n      <td>162.87</td>\n      <td>B</td>\n      <td>...</td>\n      <td>NaN</td>\n      <td>NaN</td>\n      <td>NaN</td>\n      <td>NaN</td>\n      <td>NaN</td>\n      <td>NaN</td>\n      <td>NaN</td>\n      <td>NaN</td>\n      <td>NaN</td>\n      <td>NaN</td>\n    </tr>\n    <tr>\n      <th>1</th>\n      <td>1</td>\n      <td>1077430</td>\n      <td>1314167</td>\n      <td>2500</td>\n      <td>2500</td>\n      <td>2500.0</td>\n      <td>60 months</td>\n      <td>15.27</td>\n      <td>59.83</td>\n      <td>C</td>\n      <td>...</td>\n      <td>NaN</td>\n      <td>NaN</td>\n      <td>NaN</td>\n      <td>NaN</td>\n      <td>NaN</td>\n      <td>NaN</td>\n      <td>NaN</td>\n      <td>NaN</td>\n      <td>NaN</td>\n      <td>NaN</td>\n    </tr>\n    <tr>\n      <th>2</th>\n      <td>2</td>\n      <td>1077175</td>\n      <td>1313524</td>\n      <td>2400</td>\n      <td>2400</td>\n      <td>2400.0</td>\n      <td>36 months</td>\n      <td>15.96</td>\n      <td>84.33</td>\n      <td>C</td>\n      <td>...</td>\n      <td>NaN</td>\n      <td>NaN</td>\n      <td>NaN</td>\n      <td>NaN</td>\n      <td>NaN</td>\n      <td>NaN</td>\n      <td>NaN</td>\n      <td>NaN</td>\n      <td>NaN</td>\n      <td>NaN</td>\n    </tr>\n    <tr>\n      <th>3</th>\n      <td>3</td>\n      <td>1076863</td>\n      <td>1277178</td>\n      <td>10000</td>\n      <td>10000</td>\n      <td>10000.0</td>\n      <td>36 months</td>\n      <td>13.49</td>\n      <td>339.31</td>\n      <td>C</td>\n      <td>...</td>\n      <td>NaN</td>\n      <td>NaN</td>\n      <td>NaN</td>\n      <td>NaN</td>\n      <td>NaN</td>\n      <td>NaN</td>\n      <td>NaN</td>\n      <td>NaN</td>\n      <td>NaN</td>\n      <td>NaN</td>\n    </tr>\n    <tr>\n      <th>4</th>\n      <td>4</td>\n      <td>1075358</td>\n      <td>1311748</td>\n      <td>3000</td>\n      <td>3000</td>\n      <td>3000.0</td>\n      <td>60 months</td>\n      <td>12.69</td>\n      <td>67.79</td>\n      <td>B</td>\n      <td>...</td>\n      <td>NaN</td>\n      <td>NaN</td>\n      <td>NaN</td>\n      <td>NaN</td>\n      <td>NaN</td>\n      <td>NaN</td>\n      <td>NaN</td>\n      <td>NaN</td>\n      <td>NaN</td>\n      <td>NaN</td>\n    </tr>\n    <tr>\n      <th>...</th>\n      <td>...</td>\n      <td>...</td>\n      <td>...</td>\n      <td>...</td>\n      <td>...</td>\n      <td>...</td>\n      <td>...</td>\n      <td>...</td>\n      <td>...</td>\n      <td>...</td>\n      <td>...</td>\n      <td>...</td>\n      <td>...</td>\n      <td>...</td>\n      <td>...</td>\n      <td>...</td>\n      <td>...</td>\n      <td>...</td>\n      <td>...</td>\n      <td>...</td>\n      <td>...</td>\n    </tr>\n    <tr>\n      <th>466280</th>\n      <td>466280</td>\n      <td>8598660</td>\n      <td>1440975</td>\n      <td>18400</td>\n      <td>18400</td>\n      <td>18400.0</td>\n      <td>60 months</td>\n      <td>14.47</td>\n      <td>432.64</td>\n      <td>C</td>\n      <td>...</td>\n      <td>NaN</td>\n      <td>NaN</td>\n      <td>NaN</td>\n      <td>NaN</td>\n      <td>NaN</td>\n      <td>NaN</td>\n      <td>29900.0</td>\n      <td>NaN</td>\n      <td>NaN</td>\n      <td>NaN</td>\n    </tr>\n    <tr>\n      <th>466281</th>\n      <td>466281</td>\n      <td>9684700</td>\n      <td>11536848</td>\n      <td>22000</td>\n      <td>22000</td>\n      <td>22000.0</td>\n      <td>60 months</td>\n      <td>19.97</td>\n      <td>582.50</td>\n      <td>D</td>\n      <td>...</td>\n      <td>NaN</td>\n      <td>NaN</td>\n      <td>NaN</td>\n      <td>NaN</td>\n      <td>NaN</td>\n      <td>NaN</td>\n      <td>39400.0</td>\n      <td>NaN</td>\n      <td>NaN</td>\n      <td>NaN</td>\n    </tr>\n    <tr>\n      <th>466282</th>\n      <td>466282</td>\n      <td>9584776</td>\n      <td>11436914</td>\n      <td>20700</td>\n      <td>20700</td>\n      <td>20700.0</td>\n      <td>60 months</td>\n      <td>16.99</td>\n      <td>514.34</td>\n      <td>D</td>\n      <td>...</td>\n      <td>NaN</td>\n      <td>NaN</td>\n      <td>NaN</td>\n      <td>NaN</td>\n      <td>NaN</td>\n      <td>NaN</td>\n      <td>13100.0</td>\n      <td>NaN</td>\n      <td>NaN</td>\n      <td>NaN</td>\n    </tr>\n    <tr>\n      <th>466283</th>\n      <td>466283</td>\n      <td>9604874</td>\n      <td>11457002</td>\n      <td>2000</td>\n      <td>2000</td>\n      <td>2000.0</td>\n      <td>36 months</td>\n      <td>7.90</td>\n      <td>62.59</td>\n      <td>A</td>\n      <td>...</td>\n      <td>NaN</td>\n      <td>NaN</td>\n      <td>NaN</td>\n      <td>NaN</td>\n      <td>NaN</td>\n      <td>NaN</td>\n      <td>53100.0</td>\n      <td>NaN</td>\n      <td>NaN</td>\n      <td>NaN</td>\n    </tr>\n    <tr>\n      <th>466284</th>\n      <td>466284</td>\n      <td>9199665</td>\n      <td>11061576</td>\n      <td>10000</td>\n      <td>10000</td>\n      <td>9975.0</td>\n      <td>36 months</td>\n      <td>19.20</td>\n      <td>367.58</td>\n      <td>D</td>\n      <td>...</td>\n      <td>NaN</td>\n      <td>NaN</td>\n      <td>NaN</td>\n      <td>NaN</td>\n      <td>NaN</td>\n      <td>NaN</td>\n      <td>16000.0</td>\n      <td>NaN</td>\n      <td>NaN</td>\n      <td>NaN</td>\n    </tr>\n  </tbody>\n</table>\n<p>466285 rows × 75 columns</p>\n</div>"
     },
     "execution_count": 4,
     "metadata": {},
     "output_type": "execute_result"
    }
   ],
   "source": [
    "loan_data"
   ]
  },
  {
   "cell_type": "code",
   "execution_count": 5,
   "metadata": {
    "ExecuteTime": {
     "end_time": "2024-02-18T08:38:10.343674Z",
     "start_time": "2024-02-18T08:38:10.340633Z"
    }
   },
   "outputs": [
    {
     "data": {
      "text/plain": "   Unnamed: 0       id  member_id  loan_amnt  funded_amnt  funded_amnt_inv  \\\n0           0  1077501    1296599       5000         5000           4975.0   \n1           1  1077430    1314167       2500         2500           2500.0   \n2           2  1077175    1313524       2400         2400           2400.0   \n3           3  1076863    1277178      10000        10000          10000.0   \n4           4  1075358    1311748       3000         3000           3000.0   \n\n         term  int_rate  installment grade  ... total_bal_il il_util  \\\n0   36 months     10.65       162.87     B  ...          NaN     NaN   \n1   60 months     15.27        59.83     C  ...          NaN     NaN   \n2   36 months     15.96        84.33     C  ...          NaN     NaN   \n3   36 months     13.49       339.31     C  ...          NaN     NaN   \n4   60 months     12.69        67.79     B  ...          NaN     NaN   \n\n  open_rv_12m open_rv_24m  max_bal_bc all_util total_rev_hi_lim inq_fi  \\\n0         NaN         NaN         NaN      NaN              NaN    NaN   \n1         NaN         NaN         NaN      NaN              NaN    NaN   \n2         NaN         NaN         NaN      NaN              NaN    NaN   \n3         NaN         NaN         NaN      NaN              NaN    NaN   \n4         NaN         NaN         NaN      NaN              NaN    NaN   \n\n  total_cu_tl inq_last_12m  \n0         NaN          NaN  \n1         NaN          NaN  \n2         NaN          NaN  \n3         NaN          NaN  \n4         NaN          NaN  \n\n[5 rows x 75 columns]",
      "text/html": "<div>\n<style scoped>\n    .dataframe tbody tr th:only-of-type {\n        vertical-align: middle;\n    }\n\n    .dataframe tbody tr th {\n        vertical-align: top;\n    }\n\n    .dataframe thead th {\n        text-align: right;\n    }\n</style>\n<table border=\"1\" class=\"dataframe\">\n  <thead>\n    <tr style=\"text-align: right;\">\n      <th></th>\n      <th>Unnamed: 0</th>\n      <th>id</th>\n      <th>member_id</th>\n      <th>loan_amnt</th>\n      <th>funded_amnt</th>\n      <th>funded_amnt_inv</th>\n      <th>term</th>\n      <th>int_rate</th>\n      <th>installment</th>\n      <th>grade</th>\n      <th>...</th>\n      <th>total_bal_il</th>\n      <th>il_util</th>\n      <th>open_rv_12m</th>\n      <th>open_rv_24m</th>\n      <th>max_bal_bc</th>\n      <th>all_util</th>\n      <th>total_rev_hi_lim</th>\n      <th>inq_fi</th>\n      <th>total_cu_tl</th>\n      <th>inq_last_12m</th>\n    </tr>\n  </thead>\n  <tbody>\n    <tr>\n      <th>0</th>\n      <td>0</td>\n      <td>1077501</td>\n      <td>1296599</td>\n      <td>5000</td>\n      <td>5000</td>\n      <td>4975.0</td>\n      <td>36 months</td>\n      <td>10.65</td>\n      <td>162.87</td>\n      <td>B</td>\n      <td>...</td>\n      <td>NaN</td>\n      <td>NaN</td>\n      <td>NaN</td>\n      <td>NaN</td>\n      <td>NaN</td>\n      <td>NaN</td>\n      <td>NaN</td>\n      <td>NaN</td>\n      <td>NaN</td>\n      <td>NaN</td>\n    </tr>\n    <tr>\n      <th>1</th>\n      <td>1</td>\n      <td>1077430</td>\n      <td>1314167</td>\n      <td>2500</td>\n      <td>2500</td>\n      <td>2500.0</td>\n      <td>60 months</td>\n      <td>15.27</td>\n      <td>59.83</td>\n      <td>C</td>\n      <td>...</td>\n      <td>NaN</td>\n      <td>NaN</td>\n      <td>NaN</td>\n      <td>NaN</td>\n      <td>NaN</td>\n      <td>NaN</td>\n      <td>NaN</td>\n      <td>NaN</td>\n      <td>NaN</td>\n      <td>NaN</td>\n    </tr>\n    <tr>\n      <th>2</th>\n      <td>2</td>\n      <td>1077175</td>\n      <td>1313524</td>\n      <td>2400</td>\n      <td>2400</td>\n      <td>2400.0</td>\n      <td>36 months</td>\n      <td>15.96</td>\n      <td>84.33</td>\n      <td>C</td>\n      <td>...</td>\n      <td>NaN</td>\n      <td>NaN</td>\n      <td>NaN</td>\n      <td>NaN</td>\n      <td>NaN</td>\n      <td>NaN</td>\n      <td>NaN</td>\n      <td>NaN</td>\n      <td>NaN</td>\n      <td>NaN</td>\n    </tr>\n    <tr>\n      <th>3</th>\n      <td>3</td>\n      <td>1076863</td>\n      <td>1277178</td>\n      <td>10000</td>\n      <td>10000</td>\n      <td>10000.0</td>\n      <td>36 months</td>\n      <td>13.49</td>\n      <td>339.31</td>\n      <td>C</td>\n      <td>...</td>\n      <td>NaN</td>\n      <td>NaN</td>\n      <td>NaN</td>\n      <td>NaN</td>\n      <td>NaN</td>\n      <td>NaN</td>\n      <td>NaN</td>\n      <td>NaN</td>\n      <td>NaN</td>\n      <td>NaN</td>\n    </tr>\n    <tr>\n      <th>4</th>\n      <td>4</td>\n      <td>1075358</td>\n      <td>1311748</td>\n      <td>3000</td>\n      <td>3000</td>\n      <td>3000.0</td>\n      <td>60 months</td>\n      <td>12.69</td>\n      <td>67.79</td>\n      <td>B</td>\n      <td>...</td>\n      <td>NaN</td>\n      <td>NaN</td>\n      <td>NaN</td>\n      <td>NaN</td>\n      <td>NaN</td>\n      <td>NaN</td>\n      <td>NaN</td>\n      <td>NaN</td>\n      <td>NaN</td>\n      <td>NaN</td>\n    </tr>\n  </tbody>\n</table>\n<p>5 rows × 75 columns</p>\n</div>"
     },
     "execution_count": 5,
     "metadata": {},
     "output_type": "execute_result"
    }
   ],
   "source": [
    "loan_data.head()"
   ]
  },
  {
   "cell_type": "code",
   "execution_count": 6,
   "metadata": {
    "ExecuteTime": {
     "end_time": "2024-02-18T08:38:10.352099Z",
     "start_time": "2024-02-18T08:38:10.347778Z"
    }
   },
   "outputs": [
    {
     "data": {
      "text/plain": "        Unnamed: 0       id  member_id  loan_amnt  funded_amnt  \\\n466280      466280  8598660    1440975      18400        18400   \n466281      466281  9684700   11536848      22000        22000   \n466282      466282  9584776   11436914      20700        20700   \n466283      466283  9604874   11457002       2000         2000   \n466284      466284  9199665   11061576      10000        10000   \n\n        funded_amnt_inv        term  int_rate  installment grade  ...  \\\n466280          18400.0   60 months     14.47       432.64     C  ...   \n466281          22000.0   60 months     19.97       582.50     D  ...   \n466282          20700.0   60 months     16.99       514.34     D  ...   \n466283           2000.0   36 months      7.90        62.59     A  ...   \n466284           9975.0   36 months     19.20       367.58     D  ...   \n\n       total_bal_il il_util open_rv_12m open_rv_24m  max_bal_bc all_util  \\\n466280          NaN     NaN         NaN         NaN         NaN      NaN   \n466281          NaN     NaN         NaN         NaN         NaN      NaN   \n466282          NaN     NaN         NaN         NaN         NaN      NaN   \n466283          NaN     NaN         NaN         NaN         NaN      NaN   \n466284          NaN     NaN         NaN         NaN         NaN      NaN   \n\n       total_rev_hi_lim inq_fi total_cu_tl inq_last_12m  \n466280          29900.0    NaN         NaN          NaN  \n466281          39400.0    NaN         NaN          NaN  \n466282          13100.0    NaN         NaN          NaN  \n466283          53100.0    NaN         NaN          NaN  \n466284          16000.0    NaN         NaN          NaN  \n\n[5 rows x 75 columns]",
      "text/html": "<div>\n<style scoped>\n    .dataframe tbody tr th:only-of-type {\n        vertical-align: middle;\n    }\n\n    .dataframe tbody tr th {\n        vertical-align: top;\n    }\n\n    .dataframe thead th {\n        text-align: right;\n    }\n</style>\n<table border=\"1\" class=\"dataframe\">\n  <thead>\n    <tr style=\"text-align: right;\">\n      <th></th>\n      <th>Unnamed: 0</th>\n      <th>id</th>\n      <th>member_id</th>\n      <th>loan_amnt</th>\n      <th>funded_amnt</th>\n      <th>funded_amnt_inv</th>\n      <th>term</th>\n      <th>int_rate</th>\n      <th>installment</th>\n      <th>grade</th>\n      <th>...</th>\n      <th>total_bal_il</th>\n      <th>il_util</th>\n      <th>open_rv_12m</th>\n      <th>open_rv_24m</th>\n      <th>max_bal_bc</th>\n      <th>all_util</th>\n      <th>total_rev_hi_lim</th>\n      <th>inq_fi</th>\n      <th>total_cu_tl</th>\n      <th>inq_last_12m</th>\n    </tr>\n  </thead>\n  <tbody>\n    <tr>\n      <th>466280</th>\n      <td>466280</td>\n      <td>8598660</td>\n      <td>1440975</td>\n      <td>18400</td>\n      <td>18400</td>\n      <td>18400.0</td>\n      <td>60 months</td>\n      <td>14.47</td>\n      <td>432.64</td>\n      <td>C</td>\n      <td>...</td>\n      <td>NaN</td>\n      <td>NaN</td>\n      <td>NaN</td>\n      <td>NaN</td>\n      <td>NaN</td>\n      <td>NaN</td>\n      <td>29900.0</td>\n      <td>NaN</td>\n      <td>NaN</td>\n      <td>NaN</td>\n    </tr>\n    <tr>\n      <th>466281</th>\n      <td>466281</td>\n      <td>9684700</td>\n      <td>11536848</td>\n      <td>22000</td>\n      <td>22000</td>\n      <td>22000.0</td>\n      <td>60 months</td>\n      <td>19.97</td>\n      <td>582.50</td>\n      <td>D</td>\n      <td>...</td>\n      <td>NaN</td>\n      <td>NaN</td>\n      <td>NaN</td>\n      <td>NaN</td>\n      <td>NaN</td>\n      <td>NaN</td>\n      <td>39400.0</td>\n      <td>NaN</td>\n      <td>NaN</td>\n      <td>NaN</td>\n    </tr>\n    <tr>\n      <th>466282</th>\n      <td>466282</td>\n      <td>9584776</td>\n      <td>11436914</td>\n      <td>20700</td>\n      <td>20700</td>\n      <td>20700.0</td>\n      <td>60 months</td>\n      <td>16.99</td>\n      <td>514.34</td>\n      <td>D</td>\n      <td>...</td>\n      <td>NaN</td>\n      <td>NaN</td>\n      <td>NaN</td>\n      <td>NaN</td>\n      <td>NaN</td>\n      <td>NaN</td>\n      <td>13100.0</td>\n      <td>NaN</td>\n      <td>NaN</td>\n      <td>NaN</td>\n    </tr>\n    <tr>\n      <th>466283</th>\n      <td>466283</td>\n      <td>9604874</td>\n      <td>11457002</td>\n      <td>2000</td>\n      <td>2000</td>\n      <td>2000.0</td>\n      <td>36 months</td>\n      <td>7.90</td>\n      <td>62.59</td>\n      <td>A</td>\n      <td>...</td>\n      <td>NaN</td>\n      <td>NaN</td>\n      <td>NaN</td>\n      <td>NaN</td>\n      <td>NaN</td>\n      <td>NaN</td>\n      <td>53100.0</td>\n      <td>NaN</td>\n      <td>NaN</td>\n      <td>NaN</td>\n    </tr>\n    <tr>\n      <th>466284</th>\n      <td>466284</td>\n      <td>9199665</td>\n      <td>11061576</td>\n      <td>10000</td>\n      <td>10000</td>\n      <td>9975.0</td>\n      <td>36 months</td>\n      <td>19.20</td>\n      <td>367.58</td>\n      <td>D</td>\n      <td>...</td>\n      <td>NaN</td>\n      <td>NaN</td>\n      <td>NaN</td>\n      <td>NaN</td>\n      <td>NaN</td>\n      <td>NaN</td>\n      <td>16000.0</td>\n      <td>NaN</td>\n      <td>NaN</td>\n      <td>NaN</td>\n    </tr>\n  </tbody>\n</table>\n<p>5 rows × 75 columns</p>\n</div>"
     },
     "execution_count": 6,
     "metadata": {},
     "output_type": "execute_result"
    }
   ],
   "source": [
    "loan_data.tail()"
   ]
  },
  {
   "cell_type": "code",
   "execution_count": 7,
   "metadata": {
    "ExecuteTime": {
     "end_time": "2024-02-18T08:38:10.354751Z",
     "start_time": "2024-02-18T08:38:10.350189Z"
    }
   },
   "outputs": [
    {
     "data": {
      "text/plain": "array(['Unnamed: 0', 'id', 'member_id', 'loan_amnt', 'funded_amnt',\n       'funded_amnt_inv', 'term', 'int_rate', 'installment', 'grade',\n       'sub_grade', 'emp_title', 'emp_length', 'home_ownership',\n       'annual_inc', 'verification_status', 'issue_d', 'loan_status',\n       'pymnt_plan', 'url', 'desc', 'purpose', 'title', 'zip_code',\n       'addr_state', 'dti', 'delinq_2yrs', 'earliest_cr_line',\n       'inq_last_6mths', 'mths_since_last_delinq',\n       'mths_since_last_record', 'open_acc', 'pub_rec', 'revol_bal',\n       'revol_util', 'total_acc', 'initial_list_status', 'out_prncp',\n       'out_prncp_inv', 'total_pymnt', 'total_pymnt_inv',\n       'total_rec_prncp', 'total_rec_int', 'total_rec_late_fee',\n       'recoveries', 'collection_recovery_fee', 'last_pymnt_d',\n       'last_pymnt_amnt', 'next_pymnt_d', 'last_credit_pull_d',\n       'collections_12_mths_ex_med', 'mths_since_last_major_derog',\n       'policy_code', 'application_type', 'annual_inc_joint', 'dti_joint',\n       'verification_status_joint', 'acc_now_delinq', 'tot_coll_amt',\n       'tot_cur_bal', 'open_acc_6m', 'open_il_6m', 'open_il_12m',\n       'open_il_24m', 'mths_since_rcnt_il', 'total_bal_il', 'il_util',\n       'open_rv_12m', 'open_rv_24m', 'max_bal_bc', 'all_util',\n       'total_rev_hi_lim', 'inq_fi', 'total_cu_tl', 'inq_last_12m'],\n      dtype=object)"
     },
     "execution_count": 7,
     "metadata": {},
     "output_type": "execute_result"
    }
   ],
   "source": [
    "loan_data.columns.values"
   ]
  },
  {
   "cell_type": "code",
   "execution_count": 8,
   "metadata": {
    "scrolled": true,
    "ExecuteTime": {
     "end_time": "2024-02-18T08:38:10.565025Z",
     "start_time": "2024-02-18T08:38:10.352399Z"
    }
   },
   "outputs": [
    {
     "name": "stdout",
     "output_type": "stream",
     "text": [
      "<class 'pandas.core.frame.DataFrame'>\n",
      "RangeIndex: 466285 entries, 0 to 466284\n",
      "Data columns (total 75 columns):\n",
      " #   Column                       Non-Null Count   Dtype  \n",
      "---  ------                       --------------   -----  \n",
      " 0   Unnamed: 0                   466285 non-null  int64  \n",
      " 1   id                           466285 non-null  int64  \n",
      " 2   member_id                    466285 non-null  int64  \n",
      " 3   loan_amnt                    466285 non-null  int64  \n",
      " 4   funded_amnt                  466285 non-null  int64  \n",
      " 5   funded_amnt_inv              466285 non-null  float64\n",
      " 6   term                         466285 non-null  object \n",
      " 7   int_rate                     466285 non-null  float64\n",
      " 8   installment                  466285 non-null  float64\n",
      " 9   grade                        466285 non-null  object \n",
      " 10  sub_grade                    466285 non-null  object \n",
      " 11  emp_title                    438697 non-null  object \n",
      " 12  emp_length                   445277 non-null  object \n",
      " 13  home_ownership               466285 non-null  object \n",
      " 14  annual_inc                   466281 non-null  float64\n",
      " 15  verification_status          466285 non-null  object \n",
      " 16  issue_d                      466285 non-null  object \n",
      " 17  loan_status                  466285 non-null  object \n",
      " 18  pymnt_plan                   466285 non-null  object \n",
      " 19  url                          466285 non-null  object \n",
      " 20  desc                         125981 non-null  object \n",
      " 21  purpose                      466285 non-null  object \n",
      " 22  title                        466264 non-null  object \n",
      " 23  zip_code                     466285 non-null  object \n",
      " 24  addr_state                   466285 non-null  object \n",
      " 25  dti                          466285 non-null  float64\n",
      " 26  delinq_2yrs                  466256 non-null  float64\n",
      " 27  earliest_cr_line             466256 non-null  object \n",
      " 28  inq_last_6mths               466256 non-null  float64\n",
      " 29  mths_since_last_delinq       215934 non-null  float64\n",
      " 30  mths_since_last_record       62638 non-null   float64\n",
      " 31  open_acc                     466256 non-null  float64\n",
      " 32  pub_rec                      466256 non-null  float64\n",
      " 33  revol_bal                    466285 non-null  int64  \n",
      " 34  revol_util                   465945 non-null  float64\n",
      " 35  total_acc                    466256 non-null  float64\n",
      " 36  initial_list_status          466285 non-null  object \n",
      " 37  out_prncp                    466285 non-null  float64\n",
      " 38  out_prncp_inv                466285 non-null  float64\n",
      " 39  total_pymnt                  466285 non-null  float64\n",
      " 40  total_pymnt_inv              466285 non-null  float64\n",
      " 41  total_rec_prncp              466285 non-null  float64\n",
      " 42  total_rec_int                466285 non-null  float64\n",
      " 43  total_rec_late_fee           466285 non-null  float64\n",
      " 44  recoveries                   466285 non-null  float64\n",
      " 45  collection_recovery_fee      466285 non-null  float64\n",
      " 46  last_pymnt_d                 465909 non-null  object \n",
      " 47  last_pymnt_amnt              466285 non-null  float64\n",
      " 48  next_pymnt_d                 239071 non-null  object \n",
      " 49  last_credit_pull_d           466243 non-null  object \n",
      " 50  collections_12_mths_ex_med   466140 non-null  float64\n",
      " 51  mths_since_last_major_derog  98974 non-null   float64\n",
      " 52  policy_code                  466285 non-null  int64  \n",
      " 53  application_type             466285 non-null  object \n",
      " 54  annual_inc_joint             0 non-null       float64\n",
      " 55  dti_joint                    0 non-null       float64\n",
      " 56  verification_status_joint    0 non-null       float64\n",
      " 57  acc_now_delinq               466256 non-null  float64\n",
      " 58  tot_coll_amt                 396009 non-null  float64\n",
      " 59  tot_cur_bal                  396009 non-null  float64\n",
      " 60  open_acc_6m                  0 non-null       float64\n",
      " 61  open_il_6m                   0 non-null       float64\n",
      " 62  open_il_12m                  0 non-null       float64\n",
      " 63  open_il_24m                  0 non-null       float64\n",
      " 64  mths_since_rcnt_il           0 non-null       float64\n",
      " 65  total_bal_il                 0 non-null       float64\n",
      " 66  il_util                      0 non-null       float64\n",
      " 67  open_rv_12m                  0 non-null       float64\n",
      " 68  open_rv_24m                  0 non-null       float64\n",
      " 69  max_bal_bc                   0 non-null       float64\n",
      " 70  all_util                     0 non-null       float64\n",
      " 71  total_rev_hi_lim             396009 non-null  float64\n",
      " 72  inq_fi                       0 non-null       float64\n",
      " 73  total_cu_tl                  0 non-null       float64\n",
      " 74  inq_last_12m                 0 non-null       float64\n",
      "dtypes: float64(46), int64(7), object(22)\n",
      "memory usage: 266.8+ MB\n"
     ]
    }
   ],
   "source": [
    "loan_data.info()"
   ]
  },
  {
   "cell_type": "markdown",
   "source": [
    "Preprocessing for continuous variables"
   ],
   "metadata": {
    "collapsed": false
   }
  },
  {
   "cell_type": "code",
   "outputs": [
    {
     "data": {
      "text/plain": "emp_length\n10+ years    150049\n2 years       41373\n3 years       36596\n< 1 year      36265\n5 years       30774\n1 year        29622\n4 years       28023\n7 years       26180\n6 years       26112\n8 years       22395\n9 years       17888\nName: count, dtype: int64"
     },
     "execution_count": 9,
     "metadata": {},
     "output_type": "execute_result"
    }
   ],
   "source": [
    "loan_data['emp_length'].value_counts()"
   ],
   "metadata": {
    "collapsed": false,
    "ExecuteTime": {
     "end_time": "2024-02-18T08:38:10.597532Z",
     "start_time": "2024-02-18T08:38:10.582187Z"
    }
   },
   "execution_count": 9
  },
  {
   "cell_type": "code",
   "outputs": [],
   "source": [
    "loan_data['emp_length_int']=loan_data['emp_length'].str.replace('+ years',' ')\n",
    "loan_data['emp_length_int'] = loan_data['emp_length_int'].str.replace('< 1 year','0')\n",
    "loan_data['emp_length_int'] = loan_data['emp_length_int'].str.replace(' years',' ')\n",
    "loan_data['emp_length_int'] = loan_data['emp_length_int'].str.replace(' year',' ')\n",
    "loan_data['emp_length_int'] = loan_data['emp_length_int'].fillna(0)"
   ],
   "metadata": {
    "collapsed": false,
    "ExecuteTime": {
     "end_time": "2024-02-18T08:38:10.757241Z",
     "start_time": "2024-02-18T08:38:10.630486Z"
    }
   },
   "execution_count": 10
  },
  {
   "cell_type": "code",
   "outputs": [
    {
     "name": "stdout",
     "output_type": "stream",
     "text": [
      "object\n"
     ]
    }
   ],
   "source": [
    "print(loan_data.dtypes['emp_length_int'])"
   ],
   "metadata": {
    "collapsed": false,
    "ExecuteTime": {
     "end_time": "2024-02-18T08:38:10.760059Z",
     "start_time": "2024-02-18T08:38:10.757614Z"
    }
   },
   "execution_count": 11
  },
  {
   "cell_type": "code",
   "outputs": [
    {
     "data": {
      "text/plain": "  emp_length emp_length_int\n0  10+ years            10 \n1   < 1 year              0\n2  10+ years            10 \n3  10+ years            10 \n4     1 year             1 \n5    3 years             3 \n6    8 years             8 ",
      "text/html": "<div>\n<style scoped>\n    .dataframe tbody tr th:only-of-type {\n        vertical-align: middle;\n    }\n\n    .dataframe tbody tr th {\n        vertical-align: top;\n    }\n\n    .dataframe thead th {\n        text-align: right;\n    }\n</style>\n<table border=\"1\" class=\"dataframe\">\n  <thead>\n    <tr style=\"text-align: right;\">\n      <th></th>\n      <th>emp_length</th>\n      <th>emp_length_int</th>\n    </tr>\n  </thead>\n  <tbody>\n    <tr>\n      <th>0</th>\n      <td>10+ years</td>\n      <td>10</td>\n    </tr>\n    <tr>\n      <th>1</th>\n      <td>&lt; 1 year</td>\n      <td>0</td>\n    </tr>\n    <tr>\n      <th>2</th>\n      <td>10+ years</td>\n      <td>10</td>\n    </tr>\n    <tr>\n      <th>3</th>\n      <td>10+ years</td>\n      <td>10</td>\n    </tr>\n    <tr>\n      <th>4</th>\n      <td>1 year</td>\n      <td>1</td>\n    </tr>\n    <tr>\n      <th>5</th>\n      <td>3 years</td>\n      <td>3</td>\n    </tr>\n    <tr>\n      <th>6</th>\n      <td>8 years</td>\n      <td>8</td>\n    </tr>\n  </tbody>\n</table>\n</div>"
     },
     "execution_count": 12,
     "metadata": {},
     "output_type": "execute_result"
    }
   ],
   "source": [
    "loan_data.loc[0:6, ['emp_length','emp_length_int']]"
   ],
   "metadata": {
    "collapsed": false,
    "ExecuteTime": {
     "end_time": "2024-02-18T08:38:10.767208Z",
     "start_time": "2024-02-18T08:38:10.760453Z"
    }
   },
   "execution_count": 12
  },
  {
   "cell_type": "code",
   "outputs": [],
   "source": [
    "loan_data['emp_length_int']= pd.to_numeric(loan_data['emp_length_int'])"
   ],
   "metadata": {
    "collapsed": false,
    "ExecuteTime": {
     "end_time": "2024-02-18T08:38:10.890132Z",
     "start_time": "2024-02-18T08:38:10.886158Z"
    }
   },
   "execution_count": 13
  },
  {
   "cell_type": "code",
   "outputs": [
    {
     "data": {
      "text/plain": "dtype('int64')"
     },
     "execution_count": 14,
     "metadata": {},
     "output_type": "execute_result"
    }
   ],
   "source": [
    "loan_data.dtypes['emp_length_int']"
   ],
   "metadata": {
    "collapsed": false,
    "ExecuteTime": {
     "end_time": "2024-02-18T08:38:10.892551Z",
     "start_time": "2024-02-18T08:38:10.889997Z"
    }
   },
   "execution_count": 14
  },
  {
   "cell_type": "markdown",
   "source": [
    "Term variable pre processing"
   ],
   "metadata": {
    "collapsed": false
   }
  },
  {
   "cell_type": "code",
   "outputs": [
    {
     "data": {
      "text/plain": "term\n36 months    337953\n60 months    128332\nName: count, dtype: int64"
     },
     "execution_count": 15,
     "metadata": {},
     "output_type": "execute_result"
    }
   ],
   "source": [
    "loan_data['term'].value_counts()"
   ],
   "metadata": {
    "collapsed": false,
    "ExecuteTime": {
     "end_time": "2024-02-18T08:38:10.918452Z",
     "start_time": "2024-02-18T08:38:10.908264Z"
    }
   },
   "execution_count": 15
  },
  {
   "cell_type": "code",
   "outputs": [],
   "source": [
    "loan_data['term_int'] = loan_data['term'].str.replace(' months',' ')"
   ],
   "metadata": {
    "collapsed": false,
    "ExecuteTime": {
     "end_time": "2024-02-18T08:38:10.965207Z",
     "start_time": "2024-02-18T08:38:10.920956Z"
    }
   },
   "execution_count": 16
  },
  {
   "cell_type": "code",
   "outputs": [
    {
     "data": {
      "text/plain": "  term_int        term\n0      36    36 months\n1      60    60 months\n2      36    36 months\n3      36    36 months\n4      60    60 months",
      "text/html": "<div>\n<style scoped>\n    .dataframe tbody tr th:only-of-type {\n        vertical-align: middle;\n    }\n\n    .dataframe tbody tr th {\n        vertical-align: top;\n    }\n\n    .dataframe thead th {\n        text-align: right;\n    }\n</style>\n<table border=\"1\" class=\"dataframe\">\n  <thead>\n    <tr style=\"text-align: right;\">\n      <th></th>\n      <th>term_int</th>\n      <th>term</th>\n    </tr>\n  </thead>\n  <tbody>\n    <tr>\n      <th>0</th>\n      <td>36</td>\n      <td>36 months</td>\n    </tr>\n    <tr>\n      <th>1</th>\n      <td>60</td>\n      <td>60 months</td>\n    </tr>\n    <tr>\n      <th>2</th>\n      <td>36</td>\n      <td>36 months</td>\n    </tr>\n    <tr>\n      <th>3</th>\n      <td>36</td>\n      <td>36 months</td>\n    </tr>\n    <tr>\n      <th>4</th>\n      <td>60</td>\n      <td>60 months</td>\n    </tr>\n  </tbody>\n</table>\n</div>"
     },
     "execution_count": 17,
     "metadata": {},
     "output_type": "execute_result"
    }
   ],
   "source": [
    "loan_data[['term_int','term']].head()"
   ],
   "metadata": {
    "collapsed": false,
    "ExecuteTime": {
     "end_time": "2024-02-18T08:38:10.973285Z",
     "start_time": "2024-02-18T08:38:10.966329Z"
    }
   },
   "execution_count": 17
  },
  {
   "cell_type": "code",
   "outputs": [
    {
     "data": {
      "text/plain": "dtype('O')"
     },
     "execution_count": 18,
     "metadata": {},
     "output_type": "execute_result"
    }
   ],
   "source": [
    "loan_data.dtypes['term_int']"
   ],
   "metadata": {
    "collapsed": false,
    "ExecuteTime": {
     "end_time": "2024-02-18T08:38:10.976857Z",
     "start_time": "2024-02-18T08:38:10.973792Z"
    }
   },
   "execution_count": 18
  },
  {
   "cell_type": "code",
   "outputs": [
    {
     "data": {
      "text/plain": "dtype('int64')"
     },
     "execution_count": 19,
     "metadata": {},
     "output_type": "execute_result"
    }
   ],
   "source": [
    "loan_data['term_int']=pd.to_numeric(loan_data['term_int'])\n",
    "loan_data.dtypes['term_int']"
   ],
   "metadata": {
    "collapsed": false,
    "ExecuteTime": {
     "end_time": "2024-02-18T08:38:11.099188Z",
     "start_time": "2024-02-18T08:38:11.096312Z"
    }
   },
   "execution_count": 19
  },
  {
   "cell_type": "markdown",
   "source": [
    "Preprocessing of time fields"
   ],
   "metadata": {
    "collapsed": false
   }
  },
  {
   "cell_type": "code",
   "outputs": [
    {
     "data": {
      "text/plain": "0         Jan-85\n1         Apr-99\n2         Nov-01\n3         Feb-96\n4         Jan-96\n           ...  \n466280    Apr-03\n466281    Jun-97\n466282    Dec-01\n466283    Feb-03\n466284    Feb-00\nName: earliest_cr_line, Length: 466285, dtype: object"
     },
     "execution_count": 20,
     "metadata": {},
     "output_type": "execute_result"
    }
   ],
   "source": [
    "loan_data['earliest_cr_line']"
   ],
   "metadata": {
    "collapsed": false,
    "ExecuteTime": {
     "end_time": "2024-02-18T08:38:11.102626Z",
     "start_time": "2024-02-18T08:38:11.099554Z"
    }
   },
   "execution_count": 20
  },
  {
   "cell_type": "code",
   "outputs": [],
   "source": [
    "loan_data['earliest_cr_line_datetime']= pd.to_datetime(loan_data['earliest_cr_line'], format='%b-%y')"
   ],
   "metadata": {
    "collapsed": false,
    "ExecuteTime": {
     "end_time": "2024-02-18T08:38:11.135707Z",
     "start_time": "2024-02-18T08:38:11.129620Z"
    }
   },
   "execution_count": 21
  },
  {
   "cell_type": "code",
   "outputs": [
    {
     "data": {
      "text/plain": "0        1985-01-01\n1        1999-04-01\n2        2001-11-01\n3        1996-02-01\n4        1996-01-01\n            ...    \n466280   2003-04-01\n466281   1997-06-01\n466282   2001-12-01\n466283   2003-02-01\n466284   2000-02-01\nName: earliest_cr_line_datetime, Length: 466285, dtype: datetime64[ns]"
     },
     "execution_count": 22,
     "metadata": {},
     "output_type": "execute_result"
    }
   ],
   "source": [
    "loan_data['earliest_cr_line_datetime']"
   ],
   "metadata": {
    "collapsed": false,
    "ExecuteTime": {
     "end_time": "2024-02-18T08:38:11.137187Z",
     "start_time": "2024-02-18T08:38:11.133196Z"
    }
   },
   "execution_count": 22
  },
  {
   "cell_type": "code",
   "outputs": [
    {
     "data": {
      "text/plain": "0        12022 days\n1         6819 days\n2         5874 days\n3         7974 days\n4         8005 days\n            ...    \n466280    5358 days\n466281    7488 days\n466282    5844 days\n466283    5417 days\n466284    6513 days\nName: duration_since_earliest_cr_line, Length: 466285, dtype: timedelta64[ns]"
     },
     "execution_count": 23,
     "metadata": {},
     "output_type": "execute_result"
    }
   ],
   "source": [
    "loan_data['duration_since_earliest_cr_line'] = pd.to_datetime('2017-12-01') - loan_data['earliest_cr_line_datetime']\n",
    "\n",
    "loan_data['duration_since_earliest_cr_line']"
   ],
   "metadata": {
    "collapsed": false,
    "ExecuteTime": {
     "end_time": "2024-02-18T08:38:11.147498Z",
     "start_time": "2024-02-18T08:38:11.138599Z"
    }
   },
   "execution_count": 23
  },
  {
   "cell_type": "markdown",
   "source": [
    "Converting duration since earliest credit line from days to months. For this we are converting the values from days to months, and also the data type from date time to numeric. np.timedelta64(30,'D') divides the days by 30 days to convert to months."
   ],
   "metadata": {
    "collapsed": false
   }
  },
  {
   "cell_type": "code",
   "outputs": [
    {
     "data": {
      "text/plain": "0         401.0\n1         227.0\n2         196.0\n3         266.0\n4         267.0\n          ...  \n466280    179.0\n466281    250.0\n466282    195.0\n466283    181.0\n466284    217.0\nName: months_since_earliest_cr_line, Length: 466285, dtype: float64"
     },
     "execution_count": 24,
     "metadata": {},
     "output_type": "execute_result"
    }
   ],
   "source": [
    "loan_data['months_since_earliest_cr_line'] = loan_data['duration_since_earliest_cr_line']/np.timedelta64(30,'D')\n",
    "\n",
    "loan_data['months_since_earliest_cr_line'] = round(loan_data['months_since_earliest_cr_line'])\n",
    "\n",
    "loan_data['months_since_earliest_cr_line']"
   ],
   "metadata": {
    "collapsed": false,
    "ExecuteTime": {
     "end_time": "2024-02-18T08:38:11.150918Z",
     "start_time": "2024-02-18T08:38:11.142359Z"
    }
   },
   "execution_count": 24
  },
  {
   "cell_type": "code",
   "outputs": [
    {
     "data": {
      "text/plain": "count    466256.000000\nmean        242.979220\nstd          95.344015\nmin        -621.000000\n25%         186.000000\n50%         228.000000\n75%         289.000000\nmax         596.000000\nName: months_since_earliest_cr_line, dtype: float64"
     },
     "execution_count": 25,
     "metadata": {},
     "output_type": "execute_result"
    }
   ],
   "source": [
    "loan_data['months_since_earliest_cr_line'].describe()"
   ],
   "metadata": {
    "collapsed": false,
    "ExecuteTime": {
     "end_time": "2024-02-18T08:38:11.173570Z",
     "start_time": "2024-02-18T08:38:11.148500Z"
    }
   },
   "execution_count": 25
  },
  {
   "cell_type": "markdown",
   "source": [
    "The min value for months since earliest credit line is negative. which means past date was not accurately parsed which we initially convert to date time. some of these years must have been converted to future. Investigate which rows have negative months since earliest credit line and observe the parsed date time value for these.\n",
    "\n",
    "We can see the years corresponding to negative months since earliest start date are in future - 2062, etc."
   ],
   "metadata": {
    "collapsed": false
   }
  },
  {
   "cell_type": "code",
   "outputs": [
    {
     "data": {
      "text/plain": "       earliest_cr_line earliest_cr_line_datetime  \\\n1580             Sep-62                2062-09-01   \n1770             Sep-68                2068-09-01   \n2799             Sep-64                2064-09-01   \n3282             Sep-67                2067-09-01   \n3359             Feb-65                2065-02-01   \n...                 ...                       ...   \n464003           Jan-68                2068-01-01   \n464260           Jul-66                2066-07-01   \n465100           Oct-67                2067-10-01   \n465500           Sep-67                2067-09-01   \n465655           Jan-56                2056-01-01   \n\n        months_since_earliest_cr_line  \n1580                           -545.0  \n1770                           -618.0  \n2799                           -569.0  \n3282                           -606.0  \n3359                           -574.0  \n...                               ...  \n464003                         -610.0  \n464260                         -591.0  \n465100                         -607.0  \n465500                         -606.0  \n465655                         -464.0  \n\n[1169 rows x 3 columns]",
      "text/html": "<div>\n<style scoped>\n    .dataframe tbody tr th:only-of-type {\n        vertical-align: middle;\n    }\n\n    .dataframe tbody tr th {\n        vertical-align: top;\n    }\n\n    .dataframe thead th {\n        text-align: right;\n    }\n</style>\n<table border=\"1\" class=\"dataframe\">\n  <thead>\n    <tr style=\"text-align: right;\">\n      <th></th>\n      <th>earliest_cr_line</th>\n      <th>earliest_cr_line_datetime</th>\n      <th>months_since_earliest_cr_line</th>\n    </tr>\n  </thead>\n  <tbody>\n    <tr>\n      <th>1580</th>\n      <td>Sep-62</td>\n      <td>2062-09-01</td>\n      <td>-545.0</td>\n    </tr>\n    <tr>\n      <th>1770</th>\n      <td>Sep-68</td>\n      <td>2068-09-01</td>\n      <td>-618.0</td>\n    </tr>\n    <tr>\n      <th>2799</th>\n      <td>Sep-64</td>\n      <td>2064-09-01</td>\n      <td>-569.0</td>\n    </tr>\n    <tr>\n      <th>3282</th>\n      <td>Sep-67</td>\n      <td>2067-09-01</td>\n      <td>-606.0</td>\n    </tr>\n    <tr>\n      <th>3359</th>\n      <td>Feb-65</td>\n      <td>2065-02-01</td>\n      <td>-574.0</td>\n    </tr>\n    <tr>\n      <th>...</th>\n      <td>...</td>\n      <td>...</td>\n      <td>...</td>\n    </tr>\n    <tr>\n      <th>464003</th>\n      <td>Jan-68</td>\n      <td>2068-01-01</td>\n      <td>-610.0</td>\n    </tr>\n    <tr>\n      <th>464260</th>\n      <td>Jul-66</td>\n      <td>2066-07-01</td>\n      <td>-591.0</td>\n    </tr>\n    <tr>\n      <th>465100</th>\n      <td>Oct-67</td>\n      <td>2067-10-01</td>\n      <td>-607.0</td>\n    </tr>\n    <tr>\n      <th>465500</th>\n      <td>Sep-67</td>\n      <td>2067-09-01</td>\n      <td>-606.0</td>\n    </tr>\n    <tr>\n      <th>465655</th>\n      <td>Jan-56</td>\n      <td>2056-01-01</td>\n      <td>-464.0</td>\n    </tr>\n  </tbody>\n</table>\n<p>1169 rows × 3 columns</p>\n</div>"
     },
     "execution_count": 26,
     "metadata": {},
     "output_type": "execute_result"
    }
   ],
   "source": [
    "loan_data[['earliest_cr_line','earliest_cr_line_datetime','months_since_earliest_cr_line']][loan_data['months_since_earliest_cr_line']<0]"
   ],
   "metadata": {
    "collapsed": false,
    "ExecuteTime": {
     "end_time": "2024-02-18T08:38:11.177139Z",
     "start_time": "2024-02-18T08:38:11.168361Z"
    }
   },
   "execution_count": 26
  },
  {
   "cell_type": "markdown",
   "source": [
    "adjusting for incorrectly parsed future dates: either go back to date time parse step and replace these years to reflect 1960s instead of 2060s or delete all the 1169 rows where the months since cr line are negative. OR.. manipulate these rows to change the negative difference to another value. \n",
    "\n",
    "Since these dates belong to the 1960s (which is furthest away from our current date of 1 Dec 2017, we can substitute the negative months, presumably from 1960s in the months_since_earliest_cr column for the largest difference in months available. larger the difference in months => closer is the date to 1960s."
   ],
   "metadata": {
    "collapsed": false
   }
  },
  {
   "cell_type": "code",
   "outputs": [
    {
     "data": {
      "text/plain": "count    466256.000000\nmean        245.925734\nstd          87.722725\nmin          74.000000\n25%         187.000000\n50%         229.000000\n75%         289.000000\nmax         596.000000\nName: months_since_earliest_cr_line, dtype: float64"
     },
     "execution_count": 27,
     "metadata": {},
     "output_type": "execute_result"
    }
   ],
   "source": [
    "loan_data.loc[loan_data['months_since_earliest_cr_line']<0,'months_since_earliest_cr_line'] = loan_data['months_since_earliest_cr_line'].max()\n",
    "\n",
    "loan_data['months_since_earliest_cr_line'].describe()"
   ],
   "metadata": {
    "collapsed": false,
    "ExecuteTime": {
     "end_time": "2024-02-18T08:38:11.206708Z",
     "start_time": "2024-02-18T08:38:11.176528Z"
    }
   },
   "execution_count": 27
  },
  {
   "cell_type": "markdown",
   "source": [
    "preprocessing issue_date"
   ],
   "metadata": {
    "collapsed": false
   }
  },
  {
   "cell_type": "code",
   "outputs": [
    {
     "data": {
      "text/plain": "0    Dec-11\n1    Dec-11\n2    Dec-11\n3    Dec-11\n4    Dec-11\n5    Dec-11\n6    Dec-11\nName: issue_d, dtype: object"
     },
     "execution_count": 28,
     "metadata": {},
     "output_type": "execute_result"
    }
   ],
   "source": [
    "loan_data.loc[:6,'issue_d']"
   ],
   "metadata": {
    "collapsed": false,
    "ExecuteTime": {
     "end_time": "2024-02-18T08:38:11.218018Z",
     "start_time": "2024-02-18T08:38:11.200286Z"
    }
   },
   "execution_count": 28
  },
  {
   "cell_type": "code",
   "outputs": [
    {
     "data": {
      "text/plain": "dtype('<M8[ns]')"
     },
     "execution_count": 29,
     "metadata": {},
     "output_type": "execute_result"
    }
   ],
   "source": [
    "loan_data['issue_d_datetime'] = pd.to_datetime(loan_data['issue_d'], format='%b-%y')\n",
    "loan_data.dtypes['issue_d_datetime']\n"
   ],
   "metadata": {
    "collapsed": false,
    "ExecuteTime": {
     "end_time": "2024-02-18T08:38:11.264305Z",
     "start_time": "2024-02-18T08:38:11.209331Z"
    }
   },
   "execution_count": 29
  },
  {
   "cell_type": "code",
   "outputs": [
    {
     "data": {
      "text/plain": "0        2192 days\n1        2192 days\n2        2192 days\n3        2192 days\n4        2192 days\n            ...   \n466280   1430 days\n466281   1430 days\n466282   1430 days\n466283   1430 days\n466284   1430 days\nName: days_since_issue_date, Length: 466285, dtype: timedelta64[ns]"
     },
     "execution_count": 30,
     "metadata": {},
     "output_type": "execute_result"
    }
   ],
   "source": [
    "loan_data['days_since_issue_date'] = pd.to_datetime('2017-12-01')-loan_data['issue_d_datetime']\n",
    "loan_data['days_since_issue_date']"
   ],
   "metadata": {
    "collapsed": false,
    "ExecuteTime": {
     "end_time": "2024-02-18T08:38:11.266349Z",
     "start_time": "2024-02-18T08:38:11.237924Z"
    }
   },
   "execution_count": 30
  },
  {
   "cell_type": "code",
   "outputs": [
    {
     "data": {
      "text/plain": "0         73.0\n1         73.0\n2         73.0\n3         73.0\n4         73.0\n          ... \n466280    48.0\n466281    48.0\n466282    48.0\n466283    48.0\n466284    48.0\nName: months_since_issue_date, Length: 466285, dtype: float64"
     },
     "execution_count": 31,
     "metadata": {},
     "output_type": "execute_result"
    }
   ],
   "source": [
    "loan_data['months_since_issue_date'] = loan_data['days_since_issue_date']/np.timedelta64(30,'D')\n",
    "loan_data['months_since_issue_date']= round(loan_data['months_since_issue_date'])\n",
    "loan_data['months_since_issue_date']"
   ],
   "metadata": {
    "collapsed": false,
    "ExecuteTime": {
     "end_time": "2024-02-18T08:38:11.267665Z",
     "start_time": "2024-02-18T08:38:11.243033Z"
    }
   },
   "execution_count": 31
  },
  {
   "cell_type": "code",
   "outputs": [
    {
     "data": {
      "text/plain": "count    466285.000000\nmean         52.265887\nstd          14.385250\nmin          37.000000\n25%          42.000000\n50%          48.000000\n75%          58.000000\nmax         128.000000\nName: months_since_issue_date, dtype: float64"
     },
     "execution_count": 32,
     "metadata": {},
     "output_type": "execute_result"
    }
   ],
   "source": [
    "loan_data['months_since_issue_date'].describe()"
   ],
   "metadata": {
    "collapsed": false,
    "ExecuteTime": {
     "end_time": "2024-02-18T08:38:11.268757Z",
     "start_time": "2024-02-18T08:38:11.248019Z"
    }
   },
   "execution_count": 32
  },
  {
   "cell_type": "markdown",
   "source": [
    "PREPROCESSING of Discrete Variables"
   ],
   "metadata": {
    "collapsed": false
   }
  },
  {
   "cell_type": "code",
   "outputs": [
    {
     "data": {
      "text/plain": "            A      B      C      D      E      F      G\n0       False   True  False  False  False  False  False\n1       False  False   True  False  False  False  False\n2       False  False   True  False  False  False  False\n3       False  False   True  False  False  False  False\n4       False   True  False  False  False  False  False\n...       ...    ...    ...    ...    ...    ...    ...\n466280  False  False   True  False  False  False  False\n466281  False  False  False   True  False  False  False\n466282  False  False  False   True  False  False  False\n466283   True  False  False  False  False  False  False\n466284  False  False  False   True  False  False  False\n\n[466285 rows x 7 columns]",
      "text/html": "<div>\n<style scoped>\n    .dataframe tbody tr th:only-of-type {\n        vertical-align: middle;\n    }\n\n    .dataframe tbody tr th {\n        vertical-align: top;\n    }\n\n    .dataframe thead th {\n        text-align: right;\n    }\n</style>\n<table border=\"1\" class=\"dataframe\">\n  <thead>\n    <tr style=\"text-align: right;\">\n      <th></th>\n      <th>A</th>\n      <th>B</th>\n      <th>C</th>\n      <th>D</th>\n      <th>E</th>\n      <th>F</th>\n      <th>G</th>\n    </tr>\n  </thead>\n  <tbody>\n    <tr>\n      <th>0</th>\n      <td>False</td>\n      <td>True</td>\n      <td>False</td>\n      <td>False</td>\n      <td>False</td>\n      <td>False</td>\n      <td>False</td>\n    </tr>\n    <tr>\n      <th>1</th>\n      <td>False</td>\n      <td>False</td>\n      <td>True</td>\n      <td>False</td>\n      <td>False</td>\n      <td>False</td>\n      <td>False</td>\n    </tr>\n    <tr>\n      <th>2</th>\n      <td>False</td>\n      <td>False</td>\n      <td>True</td>\n      <td>False</td>\n      <td>False</td>\n      <td>False</td>\n      <td>False</td>\n    </tr>\n    <tr>\n      <th>3</th>\n      <td>False</td>\n      <td>False</td>\n      <td>True</td>\n      <td>False</td>\n      <td>False</td>\n      <td>False</td>\n      <td>False</td>\n    </tr>\n    <tr>\n      <th>4</th>\n      <td>False</td>\n      <td>True</td>\n      <td>False</td>\n      <td>False</td>\n      <td>False</td>\n      <td>False</td>\n      <td>False</td>\n    </tr>\n    <tr>\n      <th>...</th>\n      <td>...</td>\n      <td>...</td>\n      <td>...</td>\n      <td>...</td>\n      <td>...</td>\n      <td>...</td>\n      <td>...</td>\n    </tr>\n    <tr>\n      <th>466280</th>\n      <td>False</td>\n      <td>False</td>\n      <td>True</td>\n      <td>False</td>\n      <td>False</td>\n      <td>False</td>\n      <td>False</td>\n    </tr>\n    <tr>\n      <th>466281</th>\n      <td>False</td>\n      <td>False</td>\n      <td>False</td>\n      <td>True</td>\n      <td>False</td>\n      <td>False</td>\n      <td>False</td>\n    </tr>\n    <tr>\n      <th>466282</th>\n      <td>False</td>\n      <td>False</td>\n      <td>False</td>\n      <td>True</td>\n      <td>False</td>\n      <td>False</td>\n      <td>False</td>\n    </tr>\n    <tr>\n      <th>466283</th>\n      <td>True</td>\n      <td>False</td>\n      <td>False</td>\n      <td>False</td>\n      <td>False</td>\n      <td>False</td>\n      <td>False</td>\n    </tr>\n    <tr>\n      <th>466284</th>\n      <td>False</td>\n      <td>False</td>\n      <td>False</td>\n      <td>True</td>\n      <td>False</td>\n      <td>False</td>\n      <td>False</td>\n    </tr>\n  </tbody>\n</table>\n<p>466285 rows × 7 columns</p>\n</div>"
     },
     "execution_count": 33,
     "metadata": {},
     "output_type": "execute_result"
    }
   ],
   "source": [
    "trial_dummy_categorical = pd.get_dummies(loan_data['grade'])\n",
    "trial_dummy_categorical"
   ],
   "metadata": {
    "collapsed": false,
    "ExecuteTime": {
     "end_time": "2024-02-18T08:38:11.310941Z",
     "start_time": "2024-02-18T08:38:11.259605Z"
    }
   },
   "execution_count": 33
  },
  {
   "cell_type": "markdown",
   "source": [
    "The get_dummies, extracts categories from the column and makes another the table. The col represents the categories with True value for the row where its True - all other categories will be False. Ex Row 1, Grade is C.\n",
    "\n",
    "To preprocess the other categorical variables, we will generate such dataframes for each variable qnd store them in a list. Then we will use concat to join the list of dataframes into one big dataframe and join this with the original dataframe. \n",
    "\n",
    "list_of_dfs= [df1, df2, df3]\n",
    "df_concated = pd.concat(list_of_dfs, axis = 1) {converting list of dataframes into one dataframe - join this with loan_data. axis = 0 will concat the tables vertically and axis=1 will concat them horizontally}\n"
   ],
   "metadata": {
    "collapsed": false
   }
  },
  {
   "cell_type": "code",
   "outputs": [],
   "source": [
    "loan_data_dummies_listofdfs = [pd.get_dummies(loan_data['grade'], prefix='Grade', prefix_sep = ':'),pd.get_dummies(loan_data['sub_grade'], prefix='Sub-Grade', prefix_sep = ':'), pd.get_dummies(loan_data['home_ownership'],prefix='Home_Own', prefix_sep = ':'), pd.get_dummies(loan_data['verification_status'],prefix='Verification_Status', prefix_sep = ':'), pd.get_dummies(loan_data['loan_status'], prefix='Loan_Status', prefix_sep = ':'), pd.get_dummies(loan_data['purpose'],prefix='Purpose', prefix_sep = ''), pd.get_dummies(loan_data['addr_state'], prefix='Addr_State', prefix_sep = ':'), pd.get_dummies(loan_data['initial_list_status'], prefix='initial_list_status', prefix_sep = ':')]\n"
   ],
   "metadata": {
    "collapsed": false,
    "ExecuteTime": {
     "end_time": "2024-02-18T08:38:11.406924Z",
     "start_time": "2024-02-18T08:38:11.279168Z"
    }
   },
   "execution_count": 34
  },
  {
   "cell_type": "code",
   "outputs": [],
   "source": [
    "loan_data_dummies_concatenated = pd.concat(loan_data_dummies_listofdfs, axis=1) #axis = 0 will concat the tables vertically and axis=1 will concat them horizontally"
   ],
   "metadata": {
    "collapsed": false,
    "ExecuteTime": {
     "end_time": "2024-02-18T08:38:11.412839Z",
     "start_time": "2024-02-18T08:38:11.407605Z"
    }
   },
   "execution_count": 35
  },
  {
   "cell_type": "code",
   "outputs": [
    {
     "data": {
      "text/plain": "pandas.core.frame.DataFrame"
     },
     "execution_count": 36,
     "metadata": {},
     "output_type": "execute_result"
    }
   ],
   "source": [
    "type(loan_data_dummies_concatenated)"
   ],
   "metadata": {
    "collapsed": false,
    "ExecuteTime": {
     "end_time": "2024-02-18T08:38:11.415456Z",
     "start_time": "2024-02-18T08:38:11.413745Z"
    }
   },
   "execution_count": 36
  },
  {
   "cell_type": "code",
   "outputs": [],
   "source": [
    "loan_data = pd.concat([loan_data, loan_data_dummies_concatenated],axis=1 )"
   ],
   "metadata": {
    "collapsed": false,
    "ExecuteTime": {
     "end_time": "2024-02-18T08:38:11.583802Z",
     "start_time": "2024-02-18T08:38:11.416376Z"
    }
   },
   "execution_count": 37
  },
  {
   "cell_type": "code",
   "outputs": [
    {
     "data": {
      "text/plain": "array(['Unnamed: 0', 'id', 'member_id', 'loan_amnt', 'funded_amnt',\n       'funded_amnt_inv', 'term', 'int_rate', 'installment', 'grade',\n       'sub_grade', 'emp_title', 'emp_length', 'home_ownership',\n       'annual_inc', 'verification_status', 'issue_d', 'loan_status',\n       'pymnt_plan', 'url', 'desc', 'purpose', 'title', 'zip_code',\n       'addr_state', 'dti', 'delinq_2yrs', 'earliest_cr_line',\n       'inq_last_6mths', 'mths_since_last_delinq',\n       'mths_since_last_record', 'open_acc', 'pub_rec', 'revol_bal',\n       'revol_util', 'total_acc', 'initial_list_status', 'out_prncp',\n       'out_prncp_inv', 'total_pymnt', 'total_pymnt_inv',\n       'total_rec_prncp', 'total_rec_int', 'total_rec_late_fee',\n       'recoveries', 'collection_recovery_fee', 'last_pymnt_d',\n       'last_pymnt_amnt', 'next_pymnt_d', 'last_credit_pull_d',\n       'collections_12_mths_ex_med', 'mths_since_last_major_derog',\n       'policy_code', 'application_type', 'annual_inc_joint', 'dti_joint',\n       'verification_status_joint', 'acc_now_delinq', 'tot_coll_amt',\n       'tot_cur_bal', 'open_acc_6m', 'open_il_6m', 'open_il_12m',\n       'open_il_24m', 'mths_since_rcnt_il', 'total_bal_il', 'il_util',\n       'open_rv_12m', 'open_rv_24m', 'max_bal_bc', 'all_util',\n       'total_rev_hi_lim', 'inq_fi', 'total_cu_tl', 'inq_last_12m',\n       'emp_length_int', 'term_int', 'earliest_cr_line_datetime',\n       'duration_since_earliest_cr_line', 'months_since_earliest_cr_line',\n       'issue_d_datetime', 'days_since_issue_date',\n       'months_since_issue_date', 'Grade:A', 'Grade:B', 'Grade:C',\n       'Grade:D', 'Grade:E', 'Grade:F', 'Grade:G', 'Sub-Grade:A1',\n       'Sub-Grade:A2', 'Sub-Grade:A3', 'Sub-Grade:A4', 'Sub-Grade:A5',\n       'Sub-Grade:B1', 'Sub-Grade:B2', 'Sub-Grade:B3', 'Sub-Grade:B4',\n       'Sub-Grade:B5', 'Sub-Grade:C1', 'Sub-Grade:C2', 'Sub-Grade:C3',\n       'Sub-Grade:C4', 'Sub-Grade:C5', 'Sub-Grade:D1', 'Sub-Grade:D2',\n       'Sub-Grade:D3', 'Sub-Grade:D4', 'Sub-Grade:D5', 'Sub-Grade:E1',\n       'Sub-Grade:E2', 'Sub-Grade:E3', 'Sub-Grade:E4', 'Sub-Grade:E5',\n       'Sub-Grade:F1', 'Sub-Grade:F2', 'Sub-Grade:F3', 'Sub-Grade:F4',\n       'Sub-Grade:F5', 'Sub-Grade:G1', 'Sub-Grade:G2', 'Sub-Grade:G3',\n       'Sub-Grade:G4', 'Sub-Grade:G5', 'Home_Own:ANY',\n       'Home_Own:MORTGAGE', 'Home_Own:NONE', 'Home_Own:OTHER',\n       'Home_Own:OWN', 'Home_Own:RENT',\n       'Verification_Status:Not Verified',\n       'Verification_Status:Source Verified',\n       'Verification_Status:Verified', 'Loan_Status:Charged Off',\n       'Loan_Status:Current', 'Loan_Status:Default',\n       'Loan_Status:Does not meet the credit policy. Status:Charged Off',\n       'Loan_Status:Does not meet the credit policy. Status:Fully Paid',\n       'Loan_Status:Fully Paid', 'Loan_Status:In Grace Period',\n       'Loan_Status:Late (16-30 days)', 'Loan_Status:Late (31-120 days)',\n       'Purposecar', 'Purposecredit_card', 'Purposedebt_consolidation',\n       'Purposeeducational', 'Purposehome_improvement', 'Purposehouse',\n       'Purposemajor_purchase', 'Purposemedical', 'Purposemoving',\n       'Purposeother', 'Purposerenewable_energy', 'Purposesmall_business',\n       'Purposevacation', 'Purposewedding', 'Addr_State:AK',\n       'Addr_State:AL', 'Addr_State:AR', 'Addr_State:AZ', 'Addr_State:CA',\n       'Addr_State:CO', 'Addr_State:CT', 'Addr_State:DC', 'Addr_State:DE',\n       'Addr_State:FL', 'Addr_State:GA', 'Addr_State:HI', 'Addr_State:IA',\n       'Addr_State:ID', 'Addr_State:IL', 'Addr_State:IN', 'Addr_State:KS',\n       'Addr_State:KY', 'Addr_State:LA', 'Addr_State:MA', 'Addr_State:MD',\n       'Addr_State:ME', 'Addr_State:MI', 'Addr_State:MN', 'Addr_State:MO',\n       'Addr_State:MS', 'Addr_State:MT', 'Addr_State:NC', 'Addr_State:NE',\n       'Addr_State:NH', 'Addr_State:NJ', 'Addr_State:NM', 'Addr_State:NV',\n       'Addr_State:NY', 'Addr_State:OH', 'Addr_State:OK', 'Addr_State:OR',\n       'Addr_State:PA', 'Addr_State:RI', 'Addr_State:SC', 'Addr_State:SD',\n       'Addr_State:TN', 'Addr_State:TX', 'Addr_State:UT', 'Addr_State:VA',\n       'Addr_State:VT', 'Addr_State:WA', 'Addr_State:WI', 'Addr_State:WV',\n       'Addr_State:WY', 'initial_list_status:f', 'initial_list_status:w'],\n      dtype=object)"
     },
     "execution_count": 38,
     "metadata": {},
     "output_type": "execute_result"
    }
   ],
   "source": [
    "loan_data.columns.values"
   ],
   "metadata": {
    "collapsed": false,
    "ExecuteTime": {
     "end_time": "2024-02-18T08:38:11.587082Z",
     "start_time": "2024-02-18T08:38:11.584496Z"
    }
   },
   "execution_count": 38
  },
  {
   "cell_type": "markdown",
   "source": [
    "Managing missing values"
   ],
   "metadata": {
    "collapsed": false
   }
  },
  {
   "cell_type": "code",
   "outputs": [
    {
     "data": {
      "text/plain": "Unnamed: 0                                                              0\nid                                                                      0\nmember_id                                                               0\nloan_amnt                                                               0\nfunded_amnt                                                             0\nfunded_amnt_inv                                                         0\nterm                                                                    0\nint_rate                                                                0\ninstallment                                                             0\ngrade                                                                   0\nsub_grade                                                               0\nemp_title                                                           27588\nemp_length                                                          21008\nhome_ownership                                                          0\nannual_inc                                                              4\nverification_status                                                     0\nissue_d                                                                 0\nloan_status                                                             0\npymnt_plan                                                              0\nurl                                                                     0\ndesc                                                               340304\npurpose                                                                 0\ntitle                                                                  21\nzip_code                                                                0\naddr_state                                                              0\ndti                                                                     0\ndelinq_2yrs                                                            29\nearliest_cr_line                                                       29\ninq_last_6mths                                                         29\nmths_since_last_delinq                                             250351\nmths_since_last_record                                             403647\nopen_acc                                                               29\npub_rec                                                                29\nrevol_bal                                                               0\nrevol_util                                                            340\ntotal_acc                                                              29\ninitial_list_status                                                     0\nout_prncp                                                               0\nout_prncp_inv                                                           0\ntotal_pymnt                                                             0\ntotal_pymnt_inv                                                         0\ntotal_rec_prncp                                                         0\ntotal_rec_int                                                           0\ntotal_rec_late_fee                                                      0\nrecoveries                                                              0\ncollection_recovery_fee                                                 0\nlast_pymnt_d                                                          376\nlast_pymnt_amnt                                                         0\nnext_pymnt_d                                                       227214\nlast_credit_pull_d                                                     42\ncollections_12_mths_ex_med                                            145\nmths_since_last_major_derog                                        367311\npolicy_code                                                             0\napplication_type                                                        0\nannual_inc_joint                                                   466285\ndti_joint                                                          466285\nverification_status_joint                                          466285\nacc_now_delinq                                                         29\ntot_coll_amt                                                        70276\ntot_cur_bal                                                         70276\nopen_acc_6m                                                        466285\nopen_il_6m                                                         466285\nopen_il_12m                                                        466285\nopen_il_24m                                                        466285\nmths_since_rcnt_il                                                 466285\ntotal_bal_il                                                       466285\nil_util                                                            466285\nopen_rv_12m                                                        466285\nopen_rv_24m                                                        466285\nmax_bal_bc                                                         466285\nall_util                                                           466285\ntotal_rev_hi_lim                                                    70276\ninq_fi                                                             466285\ntotal_cu_tl                                                        466285\ninq_last_12m                                                       466285\nemp_length_int                                                          0\nterm_int                                                                0\nearliest_cr_line_datetime                                              29\nduration_since_earliest_cr_line                                        29\nmonths_since_earliest_cr_line                                          29\nissue_d_datetime                                                        0\ndays_since_issue_date                                                   0\nmonths_since_issue_date                                                 0\nGrade:A                                                                 0\nGrade:B                                                                 0\nGrade:C                                                                 0\nGrade:D                                                                 0\nGrade:E                                                                 0\nGrade:F                                                                 0\nGrade:G                                                                 0\nSub-Grade:A1                                                            0\nSub-Grade:A2                                                            0\nSub-Grade:A3                                                            0\nSub-Grade:A4                                                            0\nSub-Grade:A5                                                            0\nSub-Grade:B1                                                            0\nSub-Grade:B2                                                            0\nSub-Grade:B3                                                            0\nSub-Grade:B4                                                            0\nSub-Grade:B5                                                            0\nSub-Grade:C1                                                            0\nSub-Grade:C2                                                            0\nSub-Grade:C3                                                            0\nSub-Grade:C4                                                            0\nSub-Grade:C5                                                            0\nSub-Grade:D1                                                            0\nSub-Grade:D2                                                            0\nSub-Grade:D3                                                            0\nSub-Grade:D4                                                            0\nSub-Grade:D5                                                            0\nSub-Grade:E1                                                            0\nSub-Grade:E2                                                            0\nSub-Grade:E3                                                            0\nSub-Grade:E4                                                            0\nSub-Grade:E5                                                            0\nSub-Grade:F1                                                            0\nSub-Grade:F2                                                            0\nSub-Grade:F3                                                            0\nSub-Grade:F4                                                            0\nSub-Grade:F5                                                            0\nSub-Grade:G1                                                            0\nSub-Grade:G2                                                            0\nSub-Grade:G3                                                            0\nSub-Grade:G4                                                            0\nSub-Grade:G5                                                            0\nHome_Own:ANY                                                            0\nHome_Own:MORTGAGE                                                       0\nHome_Own:NONE                                                           0\nHome_Own:OTHER                                                          0\nHome_Own:OWN                                                            0\nHome_Own:RENT                                                           0\nVerification_Status:Not Verified                                        0\nVerification_Status:Source Verified                                     0\nVerification_Status:Verified                                            0\nLoan_Status:Charged Off                                                 0\nLoan_Status:Current                                                     0\nLoan_Status:Default                                                     0\nLoan_Status:Does not meet the credit policy. Status:Charged Off         0\nLoan_Status:Does not meet the credit policy. Status:Fully Paid          0\nLoan_Status:Fully Paid                                                  0\nLoan_Status:In Grace Period                                             0\nLoan_Status:Late (16-30 days)                                           0\nLoan_Status:Late (31-120 days)                                          0\nPurposecar                                                              0\nPurposecredit_card                                                      0\nPurposedebt_consolidation                                               0\nPurposeeducational                                                      0\nPurposehome_improvement                                                 0\nPurposehouse                                                            0\nPurposemajor_purchase                                                   0\nPurposemedical                                                          0\nPurposemoving                                                           0\nPurposeother                                                            0\nPurposerenewable_energy                                                 0\nPurposesmall_business                                                   0\nPurposevacation                                                         0\nPurposewedding                                                          0\nAddr_State:AK                                                           0\nAddr_State:AL                                                           0\nAddr_State:AR                                                           0\nAddr_State:AZ                                                           0\nAddr_State:CA                                                           0\nAddr_State:CO                                                           0\nAddr_State:CT                                                           0\nAddr_State:DC                                                           0\nAddr_State:DE                                                           0\nAddr_State:FL                                                           0\nAddr_State:GA                                                           0\nAddr_State:HI                                                           0\nAddr_State:IA                                                           0\nAddr_State:ID                                                           0\nAddr_State:IL                                                           0\nAddr_State:IN                                                           0\nAddr_State:KS                                                           0\nAddr_State:KY                                                           0\nAddr_State:LA                                                           0\nAddr_State:MA                                                           0\nAddr_State:MD                                                           0\nAddr_State:ME                                                           0\nAddr_State:MI                                                           0\nAddr_State:MN                                                           0\nAddr_State:MO                                                           0\nAddr_State:MS                                                           0\nAddr_State:MT                                                           0\nAddr_State:NC                                                           0\nAddr_State:NE                                                           0\nAddr_State:NH                                                           0\nAddr_State:NJ                                                           0\nAddr_State:NM                                                           0\nAddr_State:NV                                                           0\nAddr_State:NY                                                           0\nAddr_State:OH                                                           0\nAddr_State:OK                                                           0\nAddr_State:OR                                                           0\nAddr_State:PA                                                           0\nAddr_State:RI                                                           0\nAddr_State:SC                                                           0\nAddr_State:SD                                                           0\nAddr_State:TN                                                           0\nAddr_State:TX                                                           0\nAddr_State:UT                                                           0\nAddr_State:VA                                                           0\nAddr_State:VT                                                           0\nAddr_State:WA                                                           0\nAddr_State:WI                                                           0\nAddr_State:WV                                                           0\nAddr_State:WY                                                           0\ninitial_list_status:f                                                   0\ninitial_list_status:w                                                   0\ndtype: int64"
     },
     "execution_count": 39,
     "metadata": {},
     "output_type": "execute_result"
    }
   ],
   "source": [
    "pd.options.display.max_rows = None\n",
    "loan_data.isnull().sum()"
   ],
   "metadata": {
    "collapsed": false,
    "ExecuteTime": {
     "end_time": "2024-02-18T08:38:11.799675Z",
     "start_time": "2024-02-18T08:38:11.586871Z"
    }
   },
   "execution_count": 39
  },
  {
   "cell_type": "code",
   "outputs": [
    {
     "name": "stderr",
     "output_type": "stream",
     "text": [
      "/var/folders/s3/mby87d114_g07sh3cl6ysz2r0000gn/T/ipykernel_1204/4084969148.py:1: FutureWarning: A value is trying to be set on a copy of a DataFrame or Series through chained assignment using an inplace method.\n",
      "The behavior will change in pandas 3.0. This inplace method will never work because the intermediate object on which we are setting values always behaves as a copy.\n",
      "\n",
      "For example, when doing 'df[col].method(value, inplace=True)', try using 'df.method({col: value}, inplace=True)' or df[col] = df[col].method(value) instead, to perform the operation inplace on the original object.\n",
      "\n",
      "\n",
      "  loan_data['total_rev_hi_lim'].fillna(loan_data['funded_amnt'], inplace=True)\n"
     ]
    },
    {
     "data": {
      "text/plain": "0"
     },
     "execution_count": 40,
     "metadata": {},
     "output_type": "execute_result"
    }
   ],
   "source": [
    "loan_data['total_rev_hi_lim'].fillna(loan_data['funded_amnt'], inplace=True)\n",
    "loan_data['total_rev_hi_lim'].isnull().sum()"
   ],
   "metadata": {
    "collapsed": false,
    "ExecuteTime": {
     "end_time": "2024-02-18T08:38:11.806791Z",
     "start_time": "2024-02-18T08:38:11.799413Z"
    }
   },
   "execution_count": 40
  },
  {
   "cell_type": "code",
   "outputs": [
    {
     "data": {
      "text/plain": "4"
     },
     "execution_count": 41,
     "metadata": {},
     "output_type": "execute_result"
    }
   ],
   "source": [
    "loan_data['annual_inc'].isnull().sum()"
   ],
   "metadata": {
    "collapsed": false,
    "ExecuteTime": {
     "end_time": "2024-02-18T08:38:11.809172Z",
     "start_time": "2024-02-18T08:38:11.805910Z"
    }
   },
   "execution_count": 41
  },
  {
   "cell_type": "code",
   "outputs": [
    {
     "name": "stderr",
     "output_type": "stream",
     "text": [
      "/var/folders/s3/mby87d114_g07sh3cl6ysz2r0000gn/T/ipykernel_1204/4036234326.py:1: FutureWarning: A value is trying to be set on a copy of a DataFrame or Series through chained assignment using an inplace method.\n",
      "The behavior will change in pandas 3.0. This inplace method will never work because the intermediate object on which we are setting values always behaves as a copy.\n",
      "\n",
      "For example, when doing 'df[col].method(value, inplace=True)', try using 'df.method({col: value}, inplace=True)' or df[col] = df[col].method(value) instead, to perform the operation inplace on the original object.\n",
      "\n",
      "\n",
      "  loan_data['annual_inc'].fillna(loan_data['annual_inc'].mean(), inplace=True)\n"
     ]
    }
   ],
   "source": [
    "loan_data['annual_inc'].fillna(loan_data['annual_inc'].mean(), inplace=True)"
   ],
   "metadata": {
    "collapsed": false,
    "ExecuteTime": {
     "end_time": "2024-02-18T08:38:11.813415Z",
     "start_time": "2024-02-18T08:38:11.809297Z"
    }
   },
   "execution_count": 42
  },
  {
   "cell_type": "code",
   "outputs": [
    {
     "data": {
      "text/plain": "0"
     },
     "execution_count": 43,
     "metadata": {},
     "output_type": "execute_result"
    }
   ],
   "source": [
    "loan_data['annual_inc'].isnull().sum()"
   ],
   "metadata": {
    "collapsed": false,
    "ExecuteTime": {
     "end_time": "2024-02-18T08:38:11.815811Z",
     "start_time": "2024-02-18T08:38:11.813582Z"
    }
   },
   "execution_count": 43
  },
  {
   "cell_type": "code",
   "outputs": [
    {
     "data": {
      "text/plain": "29"
     },
     "execution_count": 44,
     "metadata": {},
     "output_type": "execute_result"
    }
   ],
   "source": [
    "loan_data['months_since_earliest_cr_line'].isnull().sum()"
   ],
   "metadata": {
    "collapsed": false,
    "ExecuteTime": {
     "end_time": "2024-02-18T08:38:11.821540Z",
     "start_time": "2024-02-18T08:38:11.815573Z"
    }
   },
   "execution_count": 44
  },
  {
   "cell_type": "code",
   "outputs": [
    {
     "name": "stderr",
     "output_type": "stream",
     "text": [
      "/var/folders/s3/mby87d114_g07sh3cl6ysz2r0000gn/T/ipykernel_1204/958730159.py:1: FutureWarning: A value is trying to be set on a copy of a DataFrame or Series through chained assignment using an inplace method.\n",
      "The behavior will change in pandas 3.0. This inplace method will never work because the intermediate object on which we are setting values always behaves as a copy.\n",
      "\n",
      "For example, when doing 'df[col].method(value, inplace=True)', try using 'df.method({col: value}, inplace=True)' or df[col] = df[col].method(value) instead, to perform the operation inplace on the original object.\n",
      "\n",
      "\n",
      "  loan_data['months_since_earliest_cr_line'].fillna(0, inplace=True)\n",
      "/var/folders/s3/mby87d114_g07sh3cl6ysz2r0000gn/T/ipykernel_1204/958730159.py:2: FutureWarning: A value is trying to be set on a copy of a DataFrame or Series through chained assignment using an inplace method.\n",
      "The behavior will change in pandas 3.0. This inplace method will never work because the intermediate object on which we are setting values always behaves as a copy.\n",
      "\n",
      "For example, when doing 'df[col].method(value, inplace=True)', try using 'df.method({col: value}, inplace=True)' or df[col] = df[col].method(value) instead, to perform the operation inplace on the original object.\n",
      "\n",
      "\n",
      "  loan_data['acc_now_delinq'].fillna(0, inplace=True)\n",
      "/var/folders/s3/mby87d114_g07sh3cl6ysz2r0000gn/T/ipykernel_1204/958730159.py:3: FutureWarning: A value is trying to be set on a copy of a DataFrame or Series through chained assignment using an inplace method.\n",
      "The behavior will change in pandas 3.0. This inplace method will never work because the intermediate object on which we are setting values always behaves as a copy.\n",
      "\n",
      "For example, when doing 'df[col].method(value, inplace=True)', try using 'df.method({col: value}, inplace=True)' or df[col] = df[col].method(value) instead, to perform the operation inplace on the original object.\n",
      "\n",
      "\n",
      "  loan_data['total_acc'].fillna(0, inplace=True)\n",
      "/var/folders/s3/mby87d114_g07sh3cl6ysz2r0000gn/T/ipykernel_1204/958730159.py:4: FutureWarning: A value is trying to be set on a copy of a DataFrame or Series through chained assignment using an inplace method.\n",
      "The behavior will change in pandas 3.0. This inplace method will never work because the intermediate object on which we are setting values always behaves as a copy.\n",
      "\n",
      "For example, when doing 'df[col].method(value, inplace=True)', try using 'df.method({col: value}, inplace=True)' or df[col] = df[col].method(value) instead, to perform the operation inplace on the original object.\n",
      "\n",
      "\n",
      "  loan_data['pub_rec'].fillna(0, inplace=True)\n",
      "/var/folders/s3/mby87d114_g07sh3cl6ysz2r0000gn/T/ipykernel_1204/958730159.py:5: FutureWarning: A value is trying to be set on a copy of a DataFrame or Series through chained assignment using an inplace method.\n",
      "The behavior will change in pandas 3.0. This inplace method will never work because the intermediate object on which we are setting values always behaves as a copy.\n",
      "\n",
      "For example, when doing 'df[col].method(value, inplace=True)', try using 'df.method({col: value}, inplace=True)' or df[col] = df[col].method(value) instead, to perform the operation inplace on the original object.\n",
      "\n",
      "\n",
      "  loan_data['open_acc'].fillna(0, inplace=True)\n",
      "/var/folders/s3/mby87d114_g07sh3cl6ysz2r0000gn/T/ipykernel_1204/958730159.py:6: FutureWarning: A value is trying to be set on a copy of a DataFrame or Series through chained assignment using an inplace method.\n",
      "The behavior will change in pandas 3.0. This inplace method will never work because the intermediate object on which we are setting values always behaves as a copy.\n",
      "\n",
      "For example, when doing 'df[col].method(value, inplace=True)', try using 'df.method({col: value}, inplace=True)' or df[col] = df[col].method(value) instead, to perform the operation inplace on the original object.\n",
      "\n",
      "\n",
      "  loan_data['inq_last_6mths'].fillna(0, inplace=True)\n",
      "/var/folders/s3/mby87d114_g07sh3cl6ysz2r0000gn/T/ipykernel_1204/958730159.py:7: FutureWarning: A value is trying to be set on a copy of a DataFrame or Series through chained assignment using an inplace method.\n",
      "The behavior will change in pandas 3.0. This inplace method will never work because the intermediate object on which we are setting values always behaves as a copy.\n",
      "\n",
      "For example, when doing 'df[col].method(value, inplace=True)', try using 'df.method({col: value}, inplace=True)' or df[col] = df[col].method(value) instead, to perform the operation inplace on the original object.\n",
      "\n",
      "\n",
      "  loan_data['delinq_2yrs'].fillna(0, inplace=True)\n",
      "/var/folders/s3/mby87d114_g07sh3cl6ysz2r0000gn/T/ipykernel_1204/958730159.py:8: FutureWarning: A value is trying to be set on a copy of a DataFrame or Series through chained assignment using an inplace method.\n",
      "The behavior will change in pandas 3.0. This inplace method will never work because the intermediate object on which we are setting values always behaves as a copy.\n",
      "\n",
      "For example, when doing 'df[col].method(value, inplace=True)', try using 'df.method({col: value}, inplace=True)' or df[col] = df[col].method(value) instead, to perform the operation inplace on the original object.\n",
      "\n",
      "\n",
      "  loan_data['emp_length_int'].fillna(0, inplace=True)\n"
     ]
    }
   ],
   "source": [
    "loan_data['months_since_earliest_cr_line'].fillna(0, inplace=True)\n",
    "loan_data['acc_now_delinq'].fillna(0, inplace=True)\n",
    "loan_data['total_acc'].fillna(0, inplace=True)\n",
    "loan_data['pub_rec'].fillna(0, inplace=True)\n",
    "loan_data['open_acc'].fillna(0, inplace=True)\n",
    "loan_data['inq_last_6mths'].fillna(0, inplace=True)\n",
    "loan_data['delinq_2yrs'].fillna(0, inplace=True)\n",
    "loan_data['emp_length_int'].fillna(0, inplace=True)"
   ],
   "metadata": {
    "collapsed": false,
    "ExecuteTime": {
     "end_time": "2024-02-18T08:38:11.854399Z",
     "start_time": "2024-02-18T08:38:11.818797Z"
    }
   },
   "execution_count": 45
  },
  {
   "cell_type": "markdown",
   "source": [
    "Designing the PD Model\n",
    "\n",
    "Assigning the Non default (1- good) and Default (0 - bad) indicators to the loan status. (Create a new column good_bad to store these. select records from loan_Status col which was Charged off, Default type of values and replace them with 0, and others with 1."
   ],
   "metadata": {
    "collapsed": false
   }
  },
  {
   "cell_type": "code",
   "outputs": [
    {
     "data": {
      "text/plain": "loan_status\nCurrent                                                0.480878\nFully Paid                                             0.396193\nCharged Off                                            0.091092\nLate (31-120 days)                                     0.014798\nIn Grace Period                                        0.006747\nDoes not meet the credit policy. Status:Fully Paid     0.004263\nLate (16-30 days)                                      0.002612\nDefault                                                0.001784\nDoes not meet the credit policy. Status:Charged Off    0.001632\nName: proportion, dtype: float64"
     },
     "execution_count": 46,
     "metadata": {},
     "output_type": "execute_result"
    }
   ],
   "source": [
    "loan_data['loan_status'].value_counts(normalize=True, ascending=False)"
   ],
   "metadata": {
    "collapsed": false,
    "ExecuteTime": {
     "end_time": "2024-02-18T08:38:11.856608Z",
     "start_time": "2024-02-18T08:38:11.842110Z"
    }
   },
   "execution_count": 46
  },
  {
   "cell_type": "code",
   "outputs": [],
   "source": [
    "loan_data['good_bad'] = np.where(loan_data['loan_status'].isin(['Charged Off','Default','Does not meet the credit policy. Status: Charged Off', 'Late (31-120 days)']), 0,1)"
   ],
   "metadata": {
    "collapsed": false,
    "ExecuteTime": {
     "end_time": "2024-02-18T08:38:11.867626Z",
     "start_time": "2024-02-18T08:38:11.845234Z"
    }
   },
   "execution_count": 47
  },
  {
   "cell_type": "code",
   "outputs": [
    {
     "data": {
      "text/plain": "   loan_status  good_bad\n0   Fully Paid         1\n1  Charged Off         0\n2   Fully Paid         1\n3   Fully Paid         1\n4      Current         1",
      "text/html": "<div>\n<style scoped>\n    .dataframe tbody tr th:only-of-type {\n        vertical-align: middle;\n    }\n\n    .dataframe tbody tr th {\n        vertical-align: top;\n    }\n\n    .dataframe thead th {\n        text-align: right;\n    }\n</style>\n<table border=\"1\" class=\"dataframe\">\n  <thead>\n    <tr style=\"text-align: right;\">\n      <th></th>\n      <th>loan_status</th>\n      <th>good_bad</th>\n    </tr>\n  </thead>\n  <tbody>\n    <tr>\n      <th>0</th>\n      <td>Fully Paid</td>\n      <td>1</td>\n    </tr>\n    <tr>\n      <th>1</th>\n      <td>Charged Off</td>\n      <td>0</td>\n    </tr>\n    <tr>\n      <th>2</th>\n      <td>Fully Paid</td>\n      <td>1</td>\n    </tr>\n    <tr>\n      <th>3</th>\n      <td>Fully Paid</td>\n      <td>1</td>\n    </tr>\n    <tr>\n      <th>4</th>\n      <td>Current</td>\n      <td>1</td>\n    </tr>\n  </tbody>\n</table>\n</div>"
     },
     "execution_count": 48,
     "metadata": {},
     "output_type": "execute_result"
    }
   ],
   "source": [
    "loan_data[['loan_status','good_bad']].head()"
   ],
   "metadata": {
    "collapsed": false,
    "ExecuteTime": {
     "end_time": "2024-02-18T08:38:11.880070Z",
     "start_time": "2024-02-18T08:38:11.857427Z"
    }
   },
   "execution_count": 48
  },
  {
   "cell_type": "markdown",
   "source": [
    "Splitting the data into training and testing"
   ],
   "metadata": {
    "collapsed": false
   }
  },
  {
   "cell_type": "code",
   "outputs": [],
   "source": [
    "from sklearn.model_selection import train_test_split\n"
   ],
   "metadata": {
    "collapsed": false,
    "ExecuteTime": {
     "end_time": "2024-02-18T08:38:12.521721Z",
     "start_time": "2024-02-18T08:38:11.860712Z"
    }
   },
   "execution_count": 49
  },
  {
   "cell_type": "code",
   "outputs": [],
   "source": [
    "#creating the training (80%) and testing (20%) datasets. There will be 4 data sets in total - training set with predictors (inputs or indp vars), testing set with predictors, training set with target variable, and test set with target variable.\n",
    "\n",
    "#the train test split method (), just needs : \n",
    "# 1. the df selection containing the training columns (we took all cols expect the good_bad col), 2. the df column containing the predictor vars, and 3. fraction of split. This method also shuffles the data randomly between test and train data. But shuffling at every run will tweak the results. So we assign a random seed, so that observations are always shuffled in the same random way.\n",
    "\n",
    "loan_data_inputs_train, loan_data_inputs_test, loan_data_targets_train, loan_data_targets_test = train_test_split(loan_data.drop('good_bad', axis=1),loan_data['good_bad'], test_size= 0.2, random_state = 42)"
   ],
   "metadata": {
    "collapsed": false,
    "ExecuteTime": {
     "end_time": "2024-02-18T08:38:12.975093Z",
     "start_time": "2024-02-18T08:38:12.523747Z"
    }
   },
   "execution_count": 50
  },
  {
   "cell_type": "code",
   "outputs": [
    {
     "data": {
      "text/plain": "(373028, 209)"
     },
     "execution_count": 51,
     "metadata": {},
     "output_type": "execute_result"
    }
   ],
   "source": [
    "loan_data_inputs_train.shape"
   ],
   "metadata": {
    "collapsed": false,
    "ExecuteTime": {
     "end_time": "2024-02-18T08:38:12.978557Z",
     "start_time": "2024-02-18T08:38:12.975692Z"
    }
   },
   "execution_count": 51
  },
  {
   "cell_type": "code",
   "outputs": [
    {
     "data": {
      "text/plain": "(93257, 209)"
     },
     "execution_count": 52,
     "metadata": {},
     "output_type": "execute_result"
    }
   ],
   "source": [
    "loan_data_inputs_test.shape"
   ],
   "metadata": {
    "collapsed": false,
    "ExecuteTime": {
     "end_time": "2024-02-18T08:38:12.982019Z",
     "start_time": "2024-02-18T08:38:12.978887Z"
    }
   },
   "execution_count": 52
  },
  {
   "cell_type": "code",
   "outputs": [
    {
     "data": {
      "text/plain": "(373028,)"
     },
     "execution_count": 53,
     "metadata": {},
     "output_type": "execute_result"
    }
   ],
   "source": [
    "loan_data_targets_train.shape"
   ],
   "metadata": {
    "collapsed": false,
    "ExecuteTime": {
     "end_time": "2024-02-18T08:38:12.985680Z",
     "start_time": "2024-02-18T08:38:12.981056Z"
    }
   },
   "execution_count": 53
  },
  {
   "cell_type": "code",
   "outputs": [
    {
     "data": {
      "text/plain": "(93257,)"
     },
     "execution_count": 54,
     "metadata": {},
     "output_type": "execute_result"
    }
   ],
   "source": [
    "loan_data_targets_test.shape"
   ],
   "metadata": {
    "collapsed": false,
    "ExecuteTime": {
     "end_time": "2024-02-18T08:38:12.991660Z",
     "start_time": "2024-02-18T08:38:12.983325Z"
    }
   },
   "execution_count": 54
  },
  {
   "cell_type": "code",
   "outputs": [
    {
     "data": {
      "text/plain": "       grade  good_bad\n427211     A         1\n206088     C         1\n136020     A         1\n412305     D         0\n36159      C         0",
      "text/html": "<div>\n<style scoped>\n    .dataframe tbody tr th:only-of-type {\n        vertical-align: middle;\n    }\n\n    .dataframe tbody tr th {\n        vertical-align: top;\n    }\n\n    .dataframe thead th {\n        text-align: right;\n    }\n</style>\n<table border=\"1\" class=\"dataframe\">\n  <thead>\n    <tr style=\"text-align: right;\">\n      <th></th>\n      <th>grade</th>\n      <th>good_bad</th>\n    </tr>\n  </thead>\n  <tbody>\n    <tr>\n      <th>427211</th>\n      <td>A</td>\n      <td>1</td>\n    </tr>\n    <tr>\n      <th>206088</th>\n      <td>C</td>\n      <td>1</td>\n    </tr>\n    <tr>\n      <th>136020</th>\n      <td>A</td>\n      <td>1</td>\n    </tr>\n    <tr>\n      <th>412305</th>\n      <td>D</td>\n      <td>0</td>\n    </tr>\n    <tr>\n      <th>36159</th>\n      <td>C</td>\n      <td>0</td>\n    </tr>\n  </tbody>\n</table>\n</div>"
     },
     "execution_count": 55,
     "metadata": {},
     "output_type": "execute_result"
    }
   ],
   "source": [
    "df_inputs_prep = loan_data_inputs_train.copy()\n",
    "df_targets_prep = loan_data_targets_train.copy()\n",
    "df1 = pd.concat([df_inputs_prep['grade'], df_targets_prep], axis=1)\n",
    "df1.head()"
   ],
   "metadata": {
    "collapsed": false,
    "ExecuteTime": {
     "end_time": "2024-02-18T08:38:13.074581Z",
     "start_time": "2024-02-18T08:38:12.985473Z"
    }
   },
   "execution_count": 55
  },
  {
   "cell_type": "code",
   "outputs": [
    {
     "data": {
      "text/plain": "  grade  good_bad\n0     A     59759\n1     B    109730\n2     C    100245\n3     D     61498\n4     E     28612\n5     F     10530\n6     G      2654",
      "text/html": "<div>\n<style scoped>\n    .dataframe tbody tr th:only-of-type {\n        vertical-align: middle;\n    }\n\n    .dataframe tbody tr th {\n        vertical-align: top;\n    }\n\n    .dataframe thead th {\n        text-align: right;\n    }\n</style>\n<table border=\"1\" class=\"dataframe\">\n  <thead>\n    <tr style=\"text-align: right;\">\n      <th></th>\n      <th>grade</th>\n      <th>good_bad</th>\n    </tr>\n  </thead>\n  <tbody>\n    <tr>\n      <th>0</th>\n      <td>A</td>\n      <td>59759</td>\n    </tr>\n    <tr>\n      <th>1</th>\n      <td>B</td>\n      <td>109730</td>\n    </tr>\n    <tr>\n      <th>2</th>\n      <td>C</td>\n      <td>100245</td>\n    </tr>\n    <tr>\n      <th>3</th>\n      <td>D</td>\n      <td>61498</td>\n    </tr>\n    <tr>\n      <th>4</th>\n      <td>E</td>\n      <td>28612</td>\n    </tr>\n    <tr>\n      <th>5</th>\n      <td>F</td>\n      <td>10530</td>\n    </tr>\n    <tr>\n      <th>6</th>\n      <td>G</td>\n      <td>2654</td>\n    </tr>\n  </tbody>\n</table>\n</div>"
     },
     "execution_count": 56,
     "metadata": {},
     "output_type": "execute_result"
    }
   ],
   "source": [
    "df_category = df1.groupby(df1.columns.values[0],as_index=False)[df1.columns.values[1]].count()\n",
    "\n",
    "df_category"
   ],
   "metadata": {
    "collapsed": false,
    "ExecuteTime": {
     "end_time": "2024-02-18T08:38:13.087574Z",
     "start_time": "2024-02-18T08:38:13.063207Z"
    }
   },
   "execution_count": 56
  },
  {
   "cell_type": "markdown",
   "source": [
    "Calculate WOE = ln[(no good borrowers in a cat/total no good borrowers)/(no bad borrowers in a cat/total no bad borrowers)]\n",
    "\n",
    "no of good borrowers = prop of good borrowers in a cat * tot no of records in that cat. We already have tot no records in the category as Count. For example in A the 59759 have some good and some bad borrowers. The good borrowers are marked by 1. so the number of good borrowers can be calculated as either the sum of values in the good_bad col for each cat, or by multiplying, mean of good borrowers in the cat * tot number of borrowers in the cat)\n"
   ],
   "metadata": {
    "collapsed": false
   }
  },
  {
   "cell_type": "code",
   "outputs": [
    {
     "data": {
      "text/plain": "  grade  good_bad grade  good_bad\n0     A     59759     A  0.961161\n1     B    109730     B  0.921589\n2     C    100245     C  0.886947\n3     D     61498     D  0.848987\n4     E     28612     E  0.809940\n5     F     10530     F  0.761159\n6     G      2654     G  0.748681",
      "text/html": "<div>\n<style scoped>\n    .dataframe tbody tr th:only-of-type {\n        vertical-align: middle;\n    }\n\n    .dataframe tbody tr th {\n        vertical-align: top;\n    }\n\n    .dataframe thead th {\n        text-align: right;\n    }\n</style>\n<table border=\"1\" class=\"dataframe\">\n  <thead>\n    <tr style=\"text-align: right;\">\n      <th></th>\n      <th>grade</th>\n      <th>good_bad</th>\n      <th>grade</th>\n      <th>good_bad</th>\n    </tr>\n  </thead>\n  <tbody>\n    <tr>\n      <th>0</th>\n      <td>A</td>\n      <td>59759</td>\n      <td>A</td>\n      <td>0.961161</td>\n    </tr>\n    <tr>\n      <th>1</th>\n      <td>B</td>\n      <td>109730</td>\n      <td>B</td>\n      <td>0.921589</td>\n    </tr>\n    <tr>\n      <th>2</th>\n      <td>C</td>\n      <td>100245</td>\n      <td>C</td>\n      <td>0.886947</td>\n    </tr>\n    <tr>\n      <th>3</th>\n      <td>D</td>\n      <td>61498</td>\n      <td>D</td>\n      <td>0.848987</td>\n    </tr>\n    <tr>\n      <th>4</th>\n      <td>E</td>\n      <td>28612</td>\n      <td>E</td>\n      <td>0.809940</td>\n    </tr>\n    <tr>\n      <th>5</th>\n      <td>F</td>\n      <td>10530</td>\n      <td>F</td>\n      <td>0.761159</td>\n    </tr>\n    <tr>\n      <th>6</th>\n      <td>G</td>\n      <td>2654</td>\n      <td>G</td>\n      <td>0.748681</td>\n    </tr>\n  </tbody>\n</table>\n</div>"
     },
     "execution_count": 57,
     "metadata": {},
     "output_type": "execute_result"
    }
   ],
   "source": [
    "df_category = pd.concat([df_category, df1.groupby(df1.columns.values[0], as_index=False)[df1.columns.values[1]].mean()],axis = 1)\n",
    "\n",
    "df_category"
   ],
   "metadata": {
    "collapsed": false,
    "ExecuteTime": {
     "end_time": "2024-02-18T08:38:13.102121Z",
     "start_time": "2024-02-18T08:38:13.080969Z"
    }
   },
   "execution_count": 57
  },
  {
   "cell_type": "code",
   "outputs": [
    {
     "data": {
      "text/plain": "  grade  good_bad  good_bad\n0     A     59759  0.961161\n1     B    109730  0.921589\n2     C    100245  0.886947\n3     D     61498  0.848987\n4     E     28612  0.809940\n5     F     10530  0.761159\n6     G      2654  0.748681",
      "text/html": "<div>\n<style scoped>\n    .dataframe tbody tr th:only-of-type {\n        vertical-align: middle;\n    }\n\n    .dataframe tbody tr th {\n        vertical-align: top;\n    }\n\n    .dataframe thead th {\n        text-align: right;\n    }\n</style>\n<table border=\"1\" class=\"dataframe\">\n  <thead>\n    <tr style=\"text-align: right;\">\n      <th></th>\n      <th>grade</th>\n      <th>good_bad</th>\n      <th>good_bad</th>\n    </tr>\n  </thead>\n  <tbody>\n    <tr>\n      <th>0</th>\n      <td>A</td>\n      <td>59759</td>\n      <td>0.961161</td>\n    </tr>\n    <tr>\n      <th>1</th>\n      <td>B</td>\n      <td>109730</td>\n      <td>0.921589</td>\n    </tr>\n    <tr>\n      <th>2</th>\n      <td>C</td>\n      <td>100245</td>\n      <td>0.886947</td>\n    </tr>\n    <tr>\n      <th>3</th>\n      <td>D</td>\n      <td>61498</td>\n      <td>0.848987</td>\n    </tr>\n    <tr>\n      <th>4</th>\n      <td>E</td>\n      <td>28612</td>\n      <td>0.809940</td>\n    </tr>\n    <tr>\n      <th>5</th>\n      <td>F</td>\n      <td>10530</td>\n      <td>0.761159</td>\n    </tr>\n    <tr>\n      <th>6</th>\n      <td>G</td>\n      <td>2654</td>\n      <td>0.748681</td>\n    </tr>\n  </tbody>\n</table>\n</div>"
     },
     "execution_count": 58,
     "metadata": {},
     "output_type": "execute_result"
    }
   ],
   "source": [
    "df_category = df_category.iloc[:, [0,1,3]]\n",
    "df_category"
   ],
   "metadata": {
    "collapsed": false,
    "ExecuteTime": {
     "end_time": "2024-02-18T08:40:20.771679Z",
     "start_time": "2024-02-18T08:40:20.769574Z"
    }
   },
   "execution_count": 58
  },
  {
   "cell_type": "code",
   "outputs": [
    {
     "data": {
      "text/plain": "  Grade  num_tot_obs  prop_good_in_catg\n0     A        59759           0.961161\n1     B       109730           0.921589\n2     C       100245           0.886947\n3     D        61498           0.848987\n4     E        28612           0.809940\n5     F        10530           0.761159\n6     G         2654           0.748681",
      "text/html": "<div>\n<style scoped>\n    .dataframe tbody tr th:only-of-type {\n        vertical-align: middle;\n    }\n\n    .dataframe tbody tr th {\n        vertical-align: top;\n    }\n\n    .dataframe thead th {\n        text-align: right;\n    }\n</style>\n<table border=\"1\" class=\"dataframe\">\n  <thead>\n    <tr style=\"text-align: right;\">\n      <th></th>\n      <th>Grade</th>\n      <th>num_tot_obs</th>\n      <th>prop_good_in_catg</th>\n    </tr>\n  </thead>\n  <tbody>\n    <tr>\n      <th>0</th>\n      <td>A</td>\n      <td>59759</td>\n      <td>0.961161</td>\n    </tr>\n    <tr>\n      <th>1</th>\n      <td>B</td>\n      <td>109730</td>\n      <td>0.921589</td>\n    </tr>\n    <tr>\n      <th>2</th>\n      <td>C</td>\n      <td>100245</td>\n      <td>0.886947</td>\n    </tr>\n    <tr>\n      <th>3</th>\n      <td>D</td>\n      <td>61498</td>\n      <td>0.848987</td>\n    </tr>\n    <tr>\n      <th>4</th>\n      <td>E</td>\n      <td>28612</td>\n      <td>0.809940</td>\n    </tr>\n    <tr>\n      <th>5</th>\n      <td>F</td>\n      <td>10530</td>\n      <td>0.761159</td>\n    </tr>\n    <tr>\n      <th>6</th>\n      <td>G</td>\n      <td>2654</td>\n      <td>0.748681</td>\n    </tr>\n  </tbody>\n</table>\n</div>"
     },
     "execution_count": 59,
     "metadata": {},
     "output_type": "execute_result"
    }
   ],
   "source": [
    "df_category.columns = ['Grade','num_tot_obs','prop_good_in_catg']\n",
    "df_category"
   ],
   "metadata": {
    "collapsed": false,
    "ExecuteTime": {
     "end_time": "2024-02-18T08:42:26.427221Z",
     "start_time": "2024-02-18T08:42:26.421722Z"
    }
   },
   "execution_count": 59
  },
  {
   "cell_type": "code",
   "outputs": [
    {
     "data": {
      "text/plain": "  Grade  num_tot_obs  prop_good_in_catg  num_good_in_catg  prop_bad_in_catg  \\\n0     A        59759           0.961161           57438.0          0.038839   \n1     B       109730           0.921589          101126.0          0.078411   \n2     C       100245           0.886947           88912.0          0.113053   \n3     D        61498           0.848987           52211.0          0.151013   \n4     E        28612           0.809940           23174.0          0.190060   \n5     F        10530           0.761159            8015.0          0.238841   \n6     G         2654           0.748681            1987.0          0.251319   \n\n   num_bad_in_catg  prop_good_wrt_total_good  prop_bad_wrt_total_bad  \n0           2321.0                  0.172557                0.057787  \n1           8604.0                  0.303807                0.214216  \n2          11333.0                  0.267113                0.282161  \n3           9287.0                  0.156854                0.231221  \n4           5438.0                  0.069620                0.135392  \n5           2515.0                  0.024079                0.062617  \n6            667.0                  0.005969                0.016606  ",
      "text/html": "<div>\n<style scoped>\n    .dataframe tbody tr th:only-of-type {\n        vertical-align: middle;\n    }\n\n    .dataframe tbody tr th {\n        vertical-align: top;\n    }\n\n    .dataframe thead th {\n        text-align: right;\n    }\n</style>\n<table border=\"1\" class=\"dataframe\">\n  <thead>\n    <tr style=\"text-align: right;\">\n      <th></th>\n      <th>Grade</th>\n      <th>num_tot_obs</th>\n      <th>prop_good_in_catg</th>\n      <th>num_good_in_catg</th>\n      <th>prop_bad_in_catg</th>\n      <th>num_bad_in_catg</th>\n      <th>prop_good_wrt_total_good</th>\n      <th>prop_bad_wrt_total_bad</th>\n    </tr>\n  </thead>\n  <tbody>\n    <tr>\n      <th>0</th>\n      <td>A</td>\n      <td>59759</td>\n      <td>0.961161</td>\n      <td>57438.0</td>\n      <td>0.038839</td>\n      <td>2321.0</td>\n      <td>0.172557</td>\n      <td>0.057787</td>\n    </tr>\n    <tr>\n      <th>1</th>\n      <td>B</td>\n      <td>109730</td>\n      <td>0.921589</td>\n      <td>101126.0</td>\n      <td>0.078411</td>\n      <td>8604.0</td>\n      <td>0.303807</td>\n      <td>0.214216</td>\n    </tr>\n    <tr>\n      <th>2</th>\n      <td>C</td>\n      <td>100245</td>\n      <td>0.886947</td>\n      <td>88912.0</td>\n      <td>0.113053</td>\n      <td>11333.0</td>\n      <td>0.267113</td>\n      <td>0.282161</td>\n    </tr>\n    <tr>\n      <th>3</th>\n      <td>D</td>\n      <td>61498</td>\n      <td>0.848987</td>\n      <td>52211.0</td>\n      <td>0.151013</td>\n      <td>9287.0</td>\n      <td>0.156854</td>\n      <td>0.231221</td>\n    </tr>\n    <tr>\n      <th>4</th>\n      <td>E</td>\n      <td>28612</td>\n      <td>0.809940</td>\n      <td>23174.0</td>\n      <td>0.190060</td>\n      <td>5438.0</td>\n      <td>0.069620</td>\n      <td>0.135392</td>\n    </tr>\n    <tr>\n      <th>5</th>\n      <td>F</td>\n      <td>10530</td>\n      <td>0.761159</td>\n      <td>8015.0</td>\n      <td>0.238841</td>\n      <td>2515.0</td>\n      <td>0.024079</td>\n      <td>0.062617</td>\n    </tr>\n    <tr>\n      <th>6</th>\n      <td>G</td>\n      <td>2654</td>\n      <td>0.748681</td>\n      <td>1987.0</td>\n      <td>0.251319</td>\n      <td>667.0</td>\n      <td>0.005969</td>\n      <td>0.016606</td>\n    </tr>\n  </tbody>\n</table>\n</div>"
     },
     "execution_count": 60,
     "metadata": {},
     "output_type": "execute_result"
    }
   ],
   "source": [
    "df_category['num_good_in_catg'] = df_category['prop_good_in_catg']* df_category['num_tot_obs']\n",
    "\n",
    "df_category['prop_bad_in_catg'] = 1 - df_category['prop_good_in_catg']\n",
    "\n",
    "df_category['num_bad_in_catg'] = df_category['prop_bad_in_catg']*df_category['num_tot_obs']\n",
    "\n",
    "df_category['prop_good_wrt_total_good'] = df_category['num_good_in_catg']/df_category['num_good_in_catg'].sum()\n",
    "\n",
    "df_category['prop_bad_wrt_total_bad'] = df_category['num_bad_in_catg']/df_category['num_bad_in_catg'].sum()\n",
    "\n",
    "df_category\n"
   ],
   "metadata": {
    "collapsed": false,
    "ExecuteTime": {
     "end_time": "2024-02-18T08:51:11.561135Z",
     "start_time": "2024-02-18T08:51:11.556636Z"
    }
   },
   "execution_count": 60
  },
  {
   "cell_type": "code",
   "outputs": [
    {
     "data": {
      "text/plain": "0    1.093973\n1    0.349405\n2   -0.054807\n3   -0.388057\n4   -0.665115\n5   -0.955693\n6   -1.023144\nName: WOE, dtype: float64"
     },
     "execution_count": 61,
     "metadata": {},
     "output_type": "execute_result"
    }
   ],
   "source": [
    "df_category['WOE']= np.log(df_category['prop_good_wrt_total_good']/df_category['prop_bad_wrt_total_bad'])\n",
    "\n",
    "df_category['WOE']"
   ],
   "metadata": {
    "collapsed": false,
    "ExecuteTime": {
     "end_time": "2024-02-18T08:53:17.144242Z",
     "start_time": "2024-02-18T08:53:17.138129Z"
    }
   },
   "execution_count": 61
  },
  {
   "cell_type": "code",
   "outputs": [
    {
     "data": {
      "text/plain": "  Grade  num_tot_obs  prop_good_in_catg  num_good_in_catg  prop_bad_in_catg  \\\n0     A        59759           0.961161           57438.0          0.038839   \n1     B       109730           0.921589          101126.0          0.078411   \n2     C       100245           0.886947           88912.0          0.113053   \n3     D        61498           0.848987           52211.0          0.151013   \n4     E        28612           0.809940           23174.0          0.190060   \n5     F        10530           0.761159            8015.0          0.238841   \n6     G         2654           0.748681            1987.0          0.251319   \n\n   num_bad_in_catg  prop_good_wrt_total_good  prop_bad_wrt_total_bad       WOE  \n0           2321.0                  0.172557                0.057787  1.093973  \n1           8604.0                  0.303807                0.214216  0.349405  \n2          11333.0                  0.267113                0.282161 -0.054807  \n3           9287.0                  0.156854                0.231221 -0.388057  \n4           5438.0                  0.069620                0.135392 -0.665115  \n5           2515.0                  0.024079                0.062617 -0.955693  \n6            667.0                  0.005969                0.016606 -1.023144  ",
      "text/html": "<div>\n<style scoped>\n    .dataframe tbody tr th:only-of-type {\n        vertical-align: middle;\n    }\n\n    .dataframe tbody tr th {\n        vertical-align: top;\n    }\n\n    .dataframe thead th {\n        text-align: right;\n    }\n</style>\n<table border=\"1\" class=\"dataframe\">\n  <thead>\n    <tr style=\"text-align: right;\">\n      <th></th>\n      <th>Grade</th>\n      <th>num_tot_obs</th>\n      <th>prop_good_in_catg</th>\n      <th>num_good_in_catg</th>\n      <th>prop_bad_in_catg</th>\n      <th>num_bad_in_catg</th>\n      <th>prop_good_wrt_total_good</th>\n      <th>prop_bad_wrt_total_bad</th>\n      <th>WOE</th>\n    </tr>\n  </thead>\n  <tbody>\n    <tr>\n      <th>0</th>\n      <td>A</td>\n      <td>59759</td>\n      <td>0.961161</td>\n      <td>57438.0</td>\n      <td>0.038839</td>\n      <td>2321.0</td>\n      <td>0.172557</td>\n      <td>0.057787</td>\n      <td>1.093973</td>\n    </tr>\n    <tr>\n      <th>1</th>\n      <td>B</td>\n      <td>109730</td>\n      <td>0.921589</td>\n      <td>101126.0</td>\n      <td>0.078411</td>\n      <td>8604.0</td>\n      <td>0.303807</td>\n      <td>0.214216</td>\n      <td>0.349405</td>\n    </tr>\n    <tr>\n      <th>2</th>\n      <td>C</td>\n      <td>100245</td>\n      <td>0.886947</td>\n      <td>88912.0</td>\n      <td>0.113053</td>\n      <td>11333.0</td>\n      <td>0.267113</td>\n      <td>0.282161</td>\n      <td>-0.054807</td>\n    </tr>\n    <tr>\n      <th>3</th>\n      <td>D</td>\n      <td>61498</td>\n      <td>0.848987</td>\n      <td>52211.0</td>\n      <td>0.151013</td>\n      <td>9287.0</td>\n      <td>0.156854</td>\n      <td>0.231221</td>\n      <td>-0.388057</td>\n    </tr>\n    <tr>\n      <th>4</th>\n      <td>E</td>\n      <td>28612</td>\n      <td>0.809940</td>\n      <td>23174.0</td>\n      <td>0.190060</td>\n      <td>5438.0</td>\n      <td>0.069620</td>\n      <td>0.135392</td>\n      <td>-0.665115</td>\n    </tr>\n    <tr>\n      <th>5</th>\n      <td>F</td>\n      <td>10530</td>\n      <td>0.761159</td>\n      <td>8015.0</td>\n      <td>0.238841</td>\n      <td>2515.0</td>\n      <td>0.024079</td>\n      <td>0.062617</td>\n      <td>-0.955693</td>\n    </tr>\n    <tr>\n      <th>6</th>\n      <td>G</td>\n      <td>2654</td>\n      <td>0.748681</td>\n      <td>1987.0</td>\n      <td>0.251319</td>\n      <td>667.0</td>\n      <td>0.005969</td>\n      <td>0.016606</td>\n      <td>-1.023144</td>\n    </tr>\n  </tbody>\n</table>\n</div>"
     },
     "execution_count": 62,
     "metadata": {},
     "output_type": "execute_result"
    }
   ],
   "source": [
    "df_category"
   ],
   "metadata": {
    "collapsed": false,
    "ExecuteTime": {
     "end_time": "2024-02-18T08:55:21.651117Z",
     "start_time": "2024-02-18T08:55:21.571108Z"
    }
   },
   "execution_count": 62
  },
  {
   "cell_type": "code",
   "outputs": [
    {
     "data": {
      "text/plain": "  Grade  num_tot_obs  prop_good_in_catg  num_good_in_catg  prop_bad_in_catg  \\\n0     A        59759           0.961161           57438.0          0.038839   \n1     B       109730           0.921589          101126.0          0.078411   \n2     C       100245           0.886947           88912.0          0.113053   \n3     D        61498           0.848987           52211.0          0.151013   \n4     E        28612           0.809940           23174.0          0.190060   \n5     F        10530           0.761159            8015.0          0.238841   \n6     G         2654           0.748681            1987.0          0.251319   \n\n   num_bad_in_catg  prop_good_wrt_total_good  prop_bad_wrt_total_bad  \\\n0           2321.0                  0.172557                0.057787   \n1           8604.0                  0.303807                0.214216   \n2          11333.0                  0.267113                0.282161   \n3           9287.0                  0.156854                0.231221   \n4           5438.0                  0.069620                0.135392   \n5           2515.0                  0.024079                0.062617   \n6            667.0                  0.005969                0.016606   \n\n        WOE        IV  \n0  1.093973  0.278002  \n1  0.349405  0.278002  \n2 -0.054807  0.278002  \n3 -0.388057  0.278002  \n4 -0.665115  0.278002  \n5 -0.955693  0.278002  \n6 -1.023144  0.278002  ",
      "text/html": "<div>\n<style scoped>\n    .dataframe tbody tr th:only-of-type {\n        vertical-align: middle;\n    }\n\n    .dataframe tbody tr th {\n        vertical-align: top;\n    }\n\n    .dataframe thead th {\n        text-align: right;\n    }\n</style>\n<table border=\"1\" class=\"dataframe\">\n  <thead>\n    <tr style=\"text-align: right;\">\n      <th></th>\n      <th>Grade</th>\n      <th>num_tot_obs</th>\n      <th>prop_good_in_catg</th>\n      <th>num_good_in_catg</th>\n      <th>prop_bad_in_catg</th>\n      <th>num_bad_in_catg</th>\n      <th>prop_good_wrt_total_good</th>\n      <th>prop_bad_wrt_total_bad</th>\n      <th>WOE</th>\n      <th>IV</th>\n    </tr>\n  </thead>\n  <tbody>\n    <tr>\n      <th>0</th>\n      <td>A</td>\n      <td>59759</td>\n      <td>0.961161</td>\n      <td>57438.0</td>\n      <td>0.038839</td>\n      <td>2321.0</td>\n      <td>0.172557</td>\n      <td>0.057787</td>\n      <td>1.093973</td>\n      <td>0.278002</td>\n    </tr>\n    <tr>\n      <th>1</th>\n      <td>B</td>\n      <td>109730</td>\n      <td>0.921589</td>\n      <td>101126.0</td>\n      <td>0.078411</td>\n      <td>8604.0</td>\n      <td>0.303807</td>\n      <td>0.214216</td>\n      <td>0.349405</td>\n      <td>0.278002</td>\n    </tr>\n    <tr>\n      <th>2</th>\n      <td>C</td>\n      <td>100245</td>\n      <td>0.886947</td>\n      <td>88912.0</td>\n      <td>0.113053</td>\n      <td>11333.0</td>\n      <td>0.267113</td>\n      <td>0.282161</td>\n      <td>-0.054807</td>\n      <td>0.278002</td>\n    </tr>\n    <tr>\n      <th>3</th>\n      <td>D</td>\n      <td>61498</td>\n      <td>0.848987</td>\n      <td>52211.0</td>\n      <td>0.151013</td>\n      <td>9287.0</td>\n      <td>0.156854</td>\n      <td>0.231221</td>\n      <td>-0.388057</td>\n      <td>0.278002</td>\n    </tr>\n    <tr>\n      <th>4</th>\n      <td>E</td>\n      <td>28612</td>\n      <td>0.809940</td>\n      <td>23174.0</td>\n      <td>0.190060</td>\n      <td>5438.0</td>\n      <td>0.069620</td>\n      <td>0.135392</td>\n      <td>-0.665115</td>\n      <td>0.278002</td>\n    </tr>\n    <tr>\n      <th>5</th>\n      <td>F</td>\n      <td>10530</td>\n      <td>0.761159</td>\n      <td>8015.0</td>\n      <td>0.238841</td>\n      <td>2515.0</td>\n      <td>0.024079</td>\n      <td>0.062617</td>\n      <td>-0.955693</td>\n      <td>0.278002</td>\n    </tr>\n    <tr>\n      <th>6</th>\n      <td>G</td>\n      <td>2654</td>\n      <td>0.748681</td>\n      <td>1987.0</td>\n      <td>0.251319</td>\n      <td>667.0</td>\n      <td>0.005969</td>\n      <td>0.016606</td>\n      <td>-1.023144</td>\n      <td>0.278002</td>\n    </tr>\n  </tbody>\n</table>\n</div>"
     },
     "execution_count": 64,
     "metadata": {},
     "output_type": "execute_result"
    }
   ],
   "source": [
    "df_category['IV'] = (df_category['prop_good_wrt_total_good'] - df_category['prop_bad_wrt_total_bad']) * df_category['WOE']\n",
    "\n",
    "df_category['IV'] = df_category['IV'].sum()\n",
    "\n",
    "#IV = SUM OF [(prop outcome1 wrt total outcome 1 across all catg - prop outcome2 wrt total outcome 2 across all catg) x WOE]. We first do the product for each row. and then sum them all. therefore IV value is same for all! Its a value for the overall category - Grades, derived form the individual WOEs which we calculated for each class within the overall category.\n",
    "\n",
    "df_category\n"
   ],
   "metadata": {
    "collapsed": false,
    "ExecuteTime": {
     "end_time": "2024-02-18T09:00:32.070837Z",
     "start_time": "2024-02-18T09:00:32.059467Z"
    }
   },
   "execution_count": 64
  },
  {
   "cell_type": "code",
   "outputs": [
    {
     "data": {
      "text/plain": "  Grade  num_tot_obs  prop_good_in_catg  num_good_in_catg  prop_bad_in_catg  \\\n0     G         2654           0.748681            1987.0          0.251319   \n1     F        10530           0.761159            8015.0          0.238841   \n2     E        28612           0.809940           23174.0          0.190060   \n3     D        61498           0.848987           52211.0          0.151013   \n4     C       100245           0.886947           88912.0          0.113053   \n5     B       109730           0.921589          101126.0          0.078411   \n6     A        59759           0.961161           57438.0          0.038839   \n\n   num_bad_in_catg  prop_good_wrt_total_good  prop_bad_wrt_total_bad  \\\n0            667.0                  0.005969                0.016606   \n1           2515.0                  0.024079                0.062617   \n2           5438.0                  0.069620                0.135392   \n3           9287.0                  0.156854                0.231221   \n4          11333.0                  0.267113                0.282161   \n5           8604.0                  0.303807                0.214216   \n6           2321.0                  0.172557                0.057787   \n\n        WOE        IV  \n0 -1.023144  0.278002  \n1 -0.955693  0.278002  \n2 -0.665115  0.278002  \n3 -0.388057  0.278002  \n4 -0.054807  0.278002  \n5  0.349405  0.278002  \n6  1.093973  0.278002  ",
      "text/html": "<div>\n<style scoped>\n    .dataframe tbody tr th:only-of-type {\n        vertical-align: middle;\n    }\n\n    .dataframe tbody tr th {\n        vertical-align: top;\n    }\n\n    .dataframe thead th {\n        text-align: right;\n    }\n</style>\n<table border=\"1\" class=\"dataframe\">\n  <thead>\n    <tr style=\"text-align: right;\">\n      <th></th>\n      <th>Grade</th>\n      <th>num_tot_obs</th>\n      <th>prop_good_in_catg</th>\n      <th>num_good_in_catg</th>\n      <th>prop_bad_in_catg</th>\n      <th>num_bad_in_catg</th>\n      <th>prop_good_wrt_total_good</th>\n      <th>prop_bad_wrt_total_bad</th>\n      <th>WOE</th>\n      <th>IV</th>\n    </tr>\n  </thead>\n  <tbody>\n    <tr>\n      <th>0</th>\n      <td>G</td>\n      <td>2654</td>\n      <td>0.748681</td>\n      <td>1987.0</td>\n      <td>0.251319</td>\n      <td>667.0</td>\n      <td>0.005969</td>\n      <td>0.016606</td>\n      <td>-1.023144</td>\n      <td>0.278002</td>\n    </tr>\n    <tr>\n      <th>1</th>\n      <td>F</td>\n      <td>10530</td>\n      <td>0.761159</td>\n      <td>8015.0</td>\n      <td>0.238841</td>\n      <td>2515.0</td>\n      <td>0.024079</td>\n      <td>0.062617</td>\n      <td>-0.955693</td>\n      <td>0.278002</td>\n    </tr>\n    <tr>\n      <th>2</th>\n      <td>E</td>\n      <td>28612</td>\n      <td>0.809940</td>\n      <td>23174.0</td>\n      <td>0.190060</td>\n      <td>5438.0</td>\n      <td>0.069620</td>\n      <td>0.135392</td>\n      <td>-0.665115</td>\n      <td>0.278002</td>\n    </tr>\n    <tr>\n      <th>3</th>\n      <td>D</td>\n      <td>61498</td>\n      <td>0.848987</td>\n      <td>52211.0</td>\n      <td>0.151013</td>\n      <td>9287.0</td>\n      <td>0.156854</td>\n      <td>0.231221</td>\n      <td>-0.388057</td>\n      <td>0.278002</td>\n    </tr>\n    <tr>\n      <th>4</th>\n      <td>C</td>\n      <td>100245</td>\n      <td>0.886947</td>\n      <td>88912.0</td>\n      <td>0.113053</td>\n      <td>11333.0</td>\n      <td>0.267113</td>\n      <td>0.282161</td>\n      <td>-0.054807</td>\n      <td>0.278002</td>\n    </tr>\n    <tr>\n      <th>5</th>\n      <td>B</td>\n      <td>109730</td>\n      <td>0.921589</td>\n      <td>101126.0</td>\n      <td>0.078411</td>\n      <td>8604.0</td>\n      <td>0.303807</td>\n      <td>0.214216</td>\n      <td>0.349405</td>\n      <td>0.278002</td>\n    </tr>\n    <tr>\n      <th>6</th>\n      <td>A</td>\n      <td>59759</td>\n      <td>0.961161</td>\n      <td>57438.0</td>\n      <td>0.038839</td>\n      <td>2321.0</td>\n      <td>0.172557</td>\n      <td>0.057787</td>\n      <td>1.093973</td>\n      <td>0.278002</td>\n    </tr>\n  </tbody>\n</table>\n</div>"
     },
     "execution_count": 66,
     "metadata": {},
     "output_type": "execute_result"
    }
   ],
   "source": [
    "df_category = df_category.sort_values(['WOE'])\n",
    "df_category = df_category.reset_index(drop=True)\n",
    "df_category"
   ],
   "metadata": {
    "collapsed": false,
    "ExecuteTime": {
     "end_time": "2024-02-18T09:18:00.554716Z",
     "start_time": "2024-02-18T09:18:00.539327Z"
    }
   },
   "execution_count": 66
  },
  {
   "cell_type": "code",
   "outputs": [
    {
     "data": {
      "text/plain": "  Grade  num_tot_obs  prop_good_in_catg  num_good_in_catg  prop_bad_in_catg  \\\n0     G         2654           0.748681            1987.0          0.251319   \n1     F        10530           0.761159            8015.0          0.238841   \n2     E        28612           0.809940           23174.0          0.190060   \n3     D        61498           0.848987           52211.0          0.151013   \n4     C       100245           0.886947           88912.0          0.113053   \n5     B       109730           0.921589          101126.0          0.078411   \n6     A        59759           0.961161           57438.0          0.038839   \n\n   num_bad_in_catg  prop_good_wrt_total_good  prop_bad_wrt_total_bad  \\\n0            667.0                  0.005969                0.016606   \n1           2515.0                  0.024079                0.062617   \n2           5438.0                  0.069620                0.135392   \n3           9287.0                  0.156854                0.231221   \n4          11333.0                  0.267113                0.282161   \n5           8604.0                  0.303807                0.214216   \n6           2321.0                  0.172557                0.057787   \n\n        WOE        IV  diff_prop_good_in_catg  diff_WOE  \n0 -1.023144  0.278002                     NaN       NaN  \n1 -0.955693  0.278002                0.012477  0.067451  \n2 -0.665115  0.278002                0.048781  0.290578  \n3 -0.388057  0.278002                0.039047  0.277058  \n4 -0.054807  0.278002                0.037960  0.333251  \n5  0.349405  0.278002                0.034642  0.404212  \n6  1.093973  0.278002                0.039571  0.744568  ",
      "text/html": "<div>\n<style scoped>\n    .dataframe tbody tr th:only-of-type {\n        vertical-align: middle;\n    }\n\n    .dataframe tbody tr th {\n        vertical-align: top;\n    }\n\n    .dataframe thead th {\n        text-align: right;\n    }\n</style>\n<table border=\"1\" class=\"dataframe\">\n  <thead>\n    <tr style=\"text-align: right;\">\n      <th></th>\n      <th>Grade</th>\n      <th>num_tot_obs</th>\n      <th>prop_good_in_catg</th>\n      <th>num_good_in_catg</th>\n      <th>prop_bad_in_catg</th>\n      <th>num_bad_in_catg</th>\n      <th>prop_good_wrt_total_good</th>\n      <th>prop_bad_wrt_total_bad</th>\n      <th>WOE</th>\n      <th>IV</th>\n      <th>diff_prop_good_in_catg</th>\n      <th>diff_WOE</th>\n    </tr>\n  </thead>\n  <tbody>\n    <tr>\n      <th>0</th>\n      <td>G</td>\n      <td>2654</td>\n      <td>0.748681</td>\n      <td>1987.0</td>\n      <td>0.251319</td>\n      <td>667.0</td>\n      <td>0.005969</td>\n      <td>0.016606</td>\n      <td>-1.023144</td>\n      <td>0.278002</td>\n      <td>NaN</td>\n      <td>NaN</td>\n    </tr>\n    <tr>\n      <th>1</th>\n      <td>F</td>\n      <td>10530</td>\n      <td>0.761159</td>\n      <td>8015.0</td>\n      <td>0.238841</td>\n      <td>2515.0</td>\n      <td>0.024079</td>\n      <td>0.062617</td>\n      <td>-0.955693</td>\n      <td>0.278002</td>\n      <td>0.012477</td>\n      <td>0.067451</td>\n    </tr>\n    <tr>\n      <th>2</th>\n      <td>E</td>\n      <td>28612</td>\n      <td>0.809940</td>\n      <td>23174.0</td>\n      <td>0.190060</td>\n      <td>5438.0</td>\n      <td>0.069620</td>\n      <td>0.135392</td>\n      <td>-0.665115</td>\n      <td>0.278002</td>\n      <td>0.048781</td>\n      <td>0.290578</td>\n    </tr>\n    <tr>\n      <th>3</th>\n      <td>D</td>\n      <td>61498</td>\n      <td>0.848987</td>\n      <td>52211.0</td>\n      <td>0.151013</td>\n      <td>9287.0</td>\n      <td>0.156854</td>\n      <td>0.231221</td>\n      <td>-0.388057</td>\n      <td>0.278002</td>\n      <td>0.039047</td>\n      <td>0.277058</td>\n    </tr>\n    <tr>\n      <th>4</th>\n      <td>C</td>\n      <td>100245</td>\n      <td>0.886947</td>\n      <td>88912.0</td>\n      <td>0.113053</td>\n      <td>11333.0</td>\n      <td>0.267113</td>\n      <td>0.282161</td>\n      <td>-0.054807</td>\n      <td>0.278002</td>\n      <td>0.037960</td>\n      <td>0.333251</td>\n    </tr>\n    <tr>\n      <th>5</th>\n      <td>B</td>\n      <td>109730</td>\n      <td>0.921589</td>\n      <td>101126.0</td>\n      <td>0.078411</td>\n      <td>8604.0</td>\n      <td>0.303807</td>\n      <td>0.214216</td>\n      <td>0.349405</td>\n      <td>0.278002</td>\n      <td>0.034642</td>\n      <td>0.404212</td>\n    </tr>\n    <tr>\n      <th>6</th>\n      <td>A</td>\n      <td>59759</td>\n      <td>0.961161</td>\n      <td>57438.0</td>\n      <td>0.038839</td>\n      <td>2321.0</td>\n      <td>0.172557</td>\n      <td>0.057787</td>\n      <td>1.093973</td>\n      <td>0.278002</td>\n      <td>0.039571</td>\n      <td>0.744568</td>\n    </tr>\n  </tbody>\n</table>\n</div>"
     },
     "execution_count": 68,
     "metadata": {},
     "output_type": "execute_result"
    }
   ],
   "source": [
    "df_category['diff_prop_good_in_catg'] = df_category['prop_good_in_catg'].diff().abs()\n",
    "\n",
    "df_category['diff_WOE'] = df_category['WOE'].diff().abs()\n",
    "\n",
    "df_category"
   ],
   "metadata": {
    "collapsed": false,
    "ExecuteTime": {
     "end_time": "2024-02-18T09:22:54.252779Z",
     "start_time": "2024-02-18T09:22:54.233089Z"
    }
   },
   "execution_count": 68
  },
  {
   "cell_type": "markdown",
   "source": [
    "Function to calculate WOE and IV for any categorical variable.\n",
    "\n",
    "Input parameters = input data set, col name of the category in the input data set, output data set and col of out put. In our case, the input data set is df_inputs_prep, and output dataset containing just the output column is df_targets_prep.\n",
    "\n",
    "\n",
    "Steps:\n",
    "1. gather the parameters - input df, input df col, target df\n",
    "2. Create a df containing only the required categorical var and target var = overwrite the input df to contain only input df with the desired category column, and concat this with the target df. \n",
    "3. Overwrite the df to group by classes in the category. use indexes instead of col names to do this. Set group by as_index to false. first group by class of input wrt count of target, and then concat with group by class of input wrt mean of target. set axis = 1 while using concat.\n",
    "4. there will be two columns of classes so, now overwrite the df to contain only one col of classes, count, and mean of target.\n",
    "5. rename count col as num_obs_in_catg, and mean col as prop_good_in_catg (since good is assigned a value of 1, the sum or  mean functions will show values for good only).\n",
    "5. create a col for num of good in cat = num_obs x prop of good in catg\n",
    "6.prop bad = 1- prop of good\n",
    "6. num bad = proo bad x num_obs\n",
    "7. prop good wrt total good = num good/ sum of num of goods\n",
    "8. prop bad wrt total bad = num bad/ sum of num of bad\n",
    "9. WOE = log (prop good wrt total good/ prop bad wrt toal bad)\n",
    "10. IV = (prop of good wrt tot good - prop of bad wrt total bad)x WOE\n",
    "11. IV = sum of all IV calculated in prev step\n",
    "12. sort by WOE in ascending\n",
    "13. OVERWRITE df to reset_index (otherwise rest index will create a new df) , (drop = True) to drop the current index\n",
    "14. calculate row-wise diff between prop_good_in catg\n",
    "15. calculate row-wise diff between WOE"
   ],
   "metadata": {
    "collapsed": false
   }
  },
  {
   "cell_type": "code",
   "outputs": [],
   "source": [
    "def woe_iv_discrete (df,discrete_var_col,target_df):\n",
    "    df = pd.concat([df[discrete_var_col],target_df], axis=1)\n",
    "    \n",
    "    df= pd.concat([df.groupby(df.columns.values[0],as_index=False)[df.columns.values[1]].count(), df.groupby(df.columns.values[0],as_index=False)[df.columns.values[1]].mean()], axis = 1)\n",
    "    \n",
    "    df = df.iloc[:, [0,1,3]]\n",
    "    \n",
    "    df.columns = [df.columns.values[0], 'n_tot_obs','propn_good_in_catg']\n",
    "    \n",
    "    df['n_good_in_catg'] = df['propn_good_in_catg'] * df['n_tot_obs']\n",
    "    \n",
    "    df['propn_bad_in_catg'] = 1 - df['propn_good_in_catg']\n",
    "    \n",
    "    df['n_bad_in_catg'] = df['propn_bad_in_catg'] * df['n_tot_obs']\n",
    "    \n",
    "    df['propn_good_wrt_tot_good'] = df['n_good_in_catg']/df['n_good_in_catg'].sum()\n",
    "    \n",
    "    df['propn_bad_wrt_tot_bad'] = df['n_bad_in_catg']/ df['n_bad_in_catg'].sum()\n",
    "    \n",
    "    df['WOE_catg'] = np.log( df['propn_good_wrt_tot_good']/ df['propn_bad_wrt_tot_bad'])\n",
    "    \n",
    "    df['IV'] = (df['propn_good_wrt_tot_good'] -  df['propn_bad_wrt_tot_bad'])* df['WOE_catg']\n",
    "    \n",
    "    df['IV'] = df['IV'].sum()\n",
    "    \n",
    "    df = df.sort_values(['WOE_catg'])\n",
    "    df = df.reset_index(drop=True)\n",
    "    \n",
    "    df['diff_propn_good_in_catg'] = df['propn_good_in_catg'].diff().abs()\n",
    "    \n",
    "    df['diff_WOE_catg']= df['WOE_catg'].diff().abs()\n",
    "    \n",
    "    return df\n",
    "    \n",
    "    \n",
    "    \n",
    "    "
   ],
   "metadata": {
    "collapsed": false,
    "ExecuteTime": {
     "end_time": "2024-02-18T10:05:17.325635Z",
     "start_time": "2024-02-18T10:05:17.302934Z"
    }
   },
   "execution_count": 69
  },
  {
   "cell_type": "code",
   "outputs": [
    {
     "data": {
      "text/plain": "  grade  n_tot_obs  propn_good_in_catg  n_good_in_catg  propn_bad_in_catg  \\\n0     G       2654            0.748681          1987.0           0.251319   \n1     F      10530            0.761159          8015.0           0.238841   \n2     E      28612            0.809940         23174.0           0.190060   \n3     D      61498            0.848987         52211.0           0.151013   \n4     C     100245            0.886947         88912.0           0.113053   \n5     B     109730            0.921589        101126.0           0.078411   \n6     A      59759            0.961161         57438.0           0.038839   \n\n   n_bad_in_catg  propn_good_wrt_tot_good  propn_bad_wrt_tot_bad  WOE_catg  \\\n0          667.0                 0.005969               0.016606 -1.023144   \n1         2515.0                 0.024079               0.062617 -0.955693   \n2         5438.0                 0.069620               0.135392 -0.665115   \n3         9287.0                 0.156854               0.231221 -0.388057   \n4        11333.0                 0.267113               0.282161 -0.054807   \n5         8604.0                 0.303807               0.214216  0.349405   \n6         2321.0                 0.172557               0.057787  1.093973   \n\n         IV  diff_propn_good_in_catg  diff_WOE_catg  \n0  0.278002                      NaN            NaN  \n1  0.278002                 0.012477       0.067451  \n2  0.278002                 0.048781       0.290578  \n3  0.278002                 0.039047       0.277058  \n4  0.278002                 0.037960       0.333251  \n5  0.278002                 0.034642       0.404212  \n6  0.278002                 0.039571       0.744568  ",
      "text/html": "<div>\n<style scoped>\n    .dataframe tbody tr th:only-of-type {\n        vertical-align: middle;\n    }\n\n    .dataframe tbody tr th {\n        vertical-align: top;\n    }\n\n    .dataframe thead th {\n        text-align: right;\n    }\n</style>\n<table border=\"1\" class=\"dataframe\">\n  <thead>\n    <tr style=\"text-align: right;\">\n      <th></th>\n      <th>grade</th>\n      <th>n_tot_obs</th>\n      <th>propn_good_in_catg</th>\n      <th>n_good_in_catg</th>\n      <th>propn_bad_in_catg</th>\n      <th>n_bad_in_catg</th>\n      <th>propn_good_wrt_tot_good</th>\n      <th>propn_bad_wrt_tot_bad</th>\n      <th>WOE_catg</th>\n      <th>IV</th>\n      <th>diff_propn_good_in_catg</th>\n      <th>diff_WOE_catg</th>\n    </tr>\n  </thead>\n  <tbody>\n    <tr>\n      <th>0</th>\n      <td>G</td>\n      <td>2654</td>\n      <td>0.748681</td>\n      <td>1987.0</td>\n      <td>0.251319</td>\n      <td>667.0</td>\n      <td>0.005969</td>\n      <td>0.016606</td>\n      <td>-1.023144</td>\n      <td>0.278002</td>\n      <td>NaN</td>\n      <td>NaN</td>\n    </tr>\n    <tr>\n      <th>1</th>\n      <td>F</td>\n      <td>10530</td>\n      <td>0.761159</td>\n      <td>8015.0</td>\n      <td>0.238841</td>\n      <td>2515.0</td>\n      <td>0.024079</td>\n      <td>0.062617</td>\n      <td>-0.955693</td>\n      <td>0.278002</td>\n      <td>0.012477</td>\n      <td>0.067451</td>\n    </tr>\n    <tr>\n      <th>2</th>\n      <td>E</td>\n      <td>28612</td>\n      <td>0.809940</td>\n      <td>23174.0</td>\n      <td>0.190060</td>\n      <td>5438.0</td>\n      <td>0.069620</td>\n      <td>0.135392</td>\n      <td>-0.665115</td>\n      <td>0.278002</td>\n      <td>0.048781</td>\n      <td>0.290578</td>\n    </tr>\n    <tr>\n      <th>3</th>\n      <td>D</td>\n      <td>61498</td>\n      <td>0.848987</td>\n      <td>52211.0</td>\n      <td>0.151013</td>\n      <td>9287.0</td>\n      <td>0.156854</td>\n      <td>0.231221</td>\n      <td>-0.388057</td>\n      <td>0.278002</td>\n      <td>0.039047</td>\n      <td>0.277058</td>\n    </tr>\n    <tr>\n      <th>4</th>\n      <td>C</td>\n      <td>100245</td>\n      <td>0.886947</td>\n      <td>88912.0</td>\n      <td>0.113053</td>\n      <td>11333.0</td>\n      <td>0.267113</td>\n      <td>0.282161</td>\n      <td>-0.054807</td>\n      <td>0.278002</td>\n      <td>0.037960</td>\n      <td>0.333251</td>\n    </tr>\n    <tr>\n      <th>5</th>\n      <td>B</td>\n      <td>109730</td>\n      <td>0.921589</td>\n      <td>101126.0</td>\n      <td>0.078411</td>\n      <td>8604.0</td>\n      <td>0.303807</td>\n      <td>0.214216</td>\n      <td>0.349405</td>\n      <td>0.278002</td>\n      <td>0.034642</td>\n      <td>0.404212</td>\n    </tr>\n    <tr>\n      <th>6</th>\n      <td>A</td>\n      <td>59759</td>\n      <td>0.961161</td>\n      <td>57438.0</td>\n      <td>0.038839</td>\n      <td>2321.0</td>\n      <td>0.172557</td>\n      <td>0.057787</td>\n      <td>1.093973</td>\n      <td>0.278002</td>\n      <td>0.039571</td>\n      <td>0.744568</td>\n    </tr>\n  </tbody>\n</table>\n</div>"
     },
     "execution_count": 70,
     "metadata": {},
     "output_type": "execute_result"
    }
   ],
   "source": [
    "df_temp = woe_iv_discrete(df_inputs_prep,'grade',df_targets_prep)\n",
    "\n",
    "df_temp"
   ],
   "metadata": {
    "collapsed": false,
    "ExecuteTime": {
     "end_time": "2024-02-18T10:07:21.984145Z",
     "start_time": "2024-02-18T10:07:21.943380Z"
    }
   },
   "execution_count": 70
  },
  {
   "cell_type": "code",
   "outputs": [],
   "source": [],
   "metadata": {
    "collapsed": false
   }
  }
 ],
 "metadata": {
  "kernelspec": {
   "display_name": "Python 3",
   "language": "python",
   "name": "python3"
  },
  "language_info": {
   "codemirror_mode": {
    "name": "ipython",
    "version": 3
   },
   "file_extension": ".py",
   "mimetype": "text/x-python",
   "name": "python",
   "nbconvert_exporter": "python",
   "pygments_lexer": "ipython3",
   "version": "3.7.3"
  }
 },
 "nbformat": 4,
 "nbformat_minor": 2
}
