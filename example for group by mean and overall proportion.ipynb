{
 "cells": [
  {
   "cell_type": "code",
   "outputs": [],
   "source": [
    "import pandas as pd"
   ],
   "metadata": {
    "collapsed": false,
    "ExecuteTime": {
     "end_time": "2024-02-17T19:33:41.888528Z",
     "start_time": "2024-02-17T19:33:41.885754Z"
    }
   },
   "id": "16a76a4a54f47b28",
   "execution_count": 13
  },
  {
   "cell_type": "code",
   "outputs": [],
   "source": [
    "data = {'Grade':['A','A','A','B','B','C','C','D'], 'Score':[1,1,0,1,1,0,0,1]}\n",
    "datadf = pd.DataFrame(data)"
   ],
   "metadata": {
    "collapsed": false,
    "ExecuteTime": {
     "end_time": "2024-02-17T19:33:41.893804Z",
     "start_time": "2024-02-17T19:33:41.891540Z"
    }
   },
   "id": "96ea39ef20c76453",
   "execution_count": 14
  },
  {
   "cell_type": "code",
   "outputs": [
    {
     "data": {
      "text/plain": "  Grade  Score\n0     A      1\n1     A      1\n2     A      0\n3     B      1\n4     B      1\n5     C      0\n6     C      0\n7     D      1",
      "text/html": "<div>\n<style scoped>\n    .dataframe tbody tr th:only-of-type {\n        vertical-align: middle;\n    }\n\n    .dataframe tbody tr th {\n        vertical-align: top;\n    }\n\n    .dataframe thead th {\n        text-align: right;\n    }\n</style>\n<table border=\"1\" class=\"dataframe\">\n  <thead>\n    <tr style=\"text-align: right;\">\n      <th></th>\n      <th>Grade</th>\n      <th>Score</th>\n    </tr>\n  </thead>\n  <tbody>\n    <tr>\n      <th>0</th>\n      <td>A</td>\n      <td>1</td>\n    </tr>\n    <tr>\n      <th>1</th>\n      <td>A</td>\n      <td>1</td>\n    </tr>\n    <tr>\n      <th>2</th>\n      <td>A</td>\n      <td>0</td>\n    </tr>\n    <tr>\n      <th>3</th>\n      <td>B</td>\n      <td>1</td>\n    </tr>\n    <tr>\n      <th>4</th>\n      <td>B</td>\n      <td>1</td>\n    </tr>\n    <tr>\n      <th>5</th>\n      <td>C</td>\n      <td>0</td>\n    </tr>\n    <tr>\n      <th>6</th>\n      <td>C</td>\n      <td>0</td>\n    </tr>\n    <tr>\n      <th>7</th>\n      <td>D</td>\n      <td>1</td>\n    </tr>\n  </tbody>\n</table>\n</div>"
     },
     "execution_count": 15,
     "metadata": {},
     "output_type": "execute_result"
    }
   ],
   "source": [
    "datadf"
   ],
   "metadata": {
    "collapsed": false,
    "ExecuteTime": {
     "end_time": "2024-02-17T19:33:41.911883Z",
     "start_time": "2024-02-17T19:33:41.898450Z"
    }
   },
   "id": "c4df4fa967b57c26",
   "execution_count": 15
  },
  {
   "cell_type": "code",
   "outputs": [
    {
     "data": {
      "text/plain": "Score\n1    5\n0    3\nName: count, dtype: int64"
     },
     "execution_count": 16,
     "metadata": {},
     "output_type": "execute_result"
    }
   ],
   "source": [
    "datadf['Score'].value_counts()\n"
   ],
   "metadata": {
    "collapsed": false,
    "ExecuteTime": {
     "end_time": "2024-02-17T19:33:41.912269Z",
     "start_time": "2024-02-17T19:33:41.902904Z"
    }
   },
   "id": "aa857d2334675900",
   "execution_count": 16
  },
  {
   "cell_type": "code",
   "outputs": [
    {
     "data": {
      "text/plain": "Grade\nA    3\nB    2\nC    2\nD    1\nName: Score, dtype: int64"
     },
     "execution_count": 17,
     "metadata": {},
     "output_type": "execute_result"
    }
   ],
   "source": [
    "datadf.groupby('Grade')['Score'].count() #count() will count the number of rows of A, B, etc. It will count the rows even if Grade column has zero value"
   ],
   "metadata": {
    "collapsed": false,
    "ExecuteTime": {
     "end_time": "2024-02-17T19:33:41.912522Z",
     "start_time": "2024-02-17T19:33:41.908112Z"
    }
   },
   "id": "a27f0c0e7909be1",
   "execution_count": 17
  },
  {
   "cell_type": "code",
   "outputs": [
    {
     "data": {
      "text/plain": "Grade\nA    2\nB    2\nC    0\nD    1\nName: Score, dtype: int64"
     },
     "execution_count": 18,
     "metadata": {},
     "output_type": "execute_result"
    }
   ],
   "source": [
    "datadf.groupby('Grade')['Score'].sum() "
   ],
   "metadata": {
    "collapsed": false,
    "ExecuteTime": {
     "end_time": "2024-02-17T19:33:41.913769Z",
     "start_time": "2024-02-17T19:33:41.911802Z"
    }
   },
   "id": "822a49cefcb97c52",
   "execution_count": 18
  },
  {
   "cell_type": "code",
   "outputs": [
    {
     "data": {
      "text/plain": "Grade\nA    0.666667\nB    1.000000\nC    0.000000\nD    1.000000\nName: Score, dtype: float64"
     },
     "execution_count": 19,
     "metadata": {},
     "output_type": "execute_result"
    }
   ],
   "source": [
    "datadf.groupby('Grade')['Score'].mean() #imp to note that the mean() method gives the average of the scores corresponding to the grade only. It is sum of score for A/ count of scores in A. To get scores as a fraction of TOTAL score, we need count of score for A/ sum of Scores"
   ],
   "metadata": {
    "collapsed": false,
    "ExecuteTime": {
     "end_time": "2024-02-17T19:33:41.918352Z",
     "start_time": "2024-02-17T19:33:41.915671Z"
    }
   },
   "id": "b64c1dca07b72534",
   "execution_count": 19
  },
  {
   "cell_type": "code",
   "outputs": [],
   "source": [
    "datadf2 = datadf.groupby('Grade').agg({'Score':['count','sum','mean']})"
   ],
   "metadata": {
    "collapsed": false,
    "ExecuteTime": {
     "end_time": "2024-02-17T19:33:41.923120Z",
     "start_time": "2024-02-17T19:33:41.920684Z"
    }
   },
   "id": "7088967326bd6b25",
   "execution_count": 20
  },
  {
   "cell_type": "code",
   "outputs": [],
   "source": [
    "datadf2.reset_index(inplace=True)"
   ],
   "metadata": {
    "collapsed": false,
    "ExecuteTime": {
     "end_time": "2024-02-17T19:33:41.937433Z",
     "start_time": "2024-02-17T19:33:41.924118Z"
    }
   },
   "id": "30d476e36936f6",
   "execution_count": 21
  },
  {
   "cell_type": "code",
   "outputs": [
    {
     "data": {
      "text/plain": "  Grades  Score count  Score sum  Score mean\n0      A            3          2    0.666667\n1      B            2          2    1.000000\n2      C            2          0    0.000000\n3      D            1          1    1.000000",
      "text/html": "<div>\n<style scoped>\n    .dataframe tbody tr th:only-of-type {\n        vertical-align: middle;\n    }\n\n    .dataframe tbody tr th {\n        vertical-align: top;\n    }\n\n    .dataframe thead th {\n        text-align: right;\n    }\n</style>\n<table border=\"1\" class=\"dataframe\">\n  <thead>\n    <tr style=\"text-align: right;\">\n      <th></th>\n      <th>Grades</th>\n      <th>Score count</th>\n      <th>Score sum</th>\n      <th>Score mean</th>\n    </tr>\n  </thead>\n  <tbody>\n    <tr>\n      <th>0</th>\n      <td>A</td>\n      <td>3</td>\n      <td>2</td>\n      <td>0.666667</td>\n    </tr>\n    <tr>\n      <th>1</th>\n      <td>B</td>\n      <td>2</td>\n      <td>2</td>\n      <td>1.000000</td>\n    </tr>\n    <tr>\n      <th>2</th>\n      <td>C</td>\n      <td>2</td>\n      <td>0</td>\n      <td>0.000000</td>\n    </tr>\n    <tr>\n      <th>3</th>\n      <td>D</td>\n      <td>1</td>\n      <td>1</td>\n      <td>1.000000</td>\n    </tr>\n  </tbody>\n</table>\n</div>"
     },
     "execution_count": 22,
     "metadata": {},
     "output_type": "execute_result"
    }
   ],
   "source": [
    "datadf2.columns = ['Grades','Score count','Score sum','Score mean']\n",
    "datadf2"
   ],
   "metadata": {
    "collapsed": false,
    "ExecuteTime": {
     "end_time": "2024-02-17T19:33:41.938346Z",
     "start_time": "2024-02-17T19:33:41.927989Z"
    }
   },
   "id": "add59d048dac334b",
   "execution_count": 22
  },
  {
   "cell_type": "code",
   "outputs": [
    {
     "data": {
      "text/plain": "  Grades  Score count  Score sum  Score mean  Prop of Total Scores\n0      A            3          2    0.666667                 0.375\n1      B            2          2    1.000000                 0.250\n2      C            2          0    0.000000                 0.250\n3      D            1          1    1.000000                 0.125",
      "text/html": "<div>\n<style scoped>\n    .dataframe tbody tr th:only-of-type {\n        vertical-align: middle;\n    }\n\n    .dataframe tbody tr th {\n        vertical-align: top;\n    }\n\n    .dataframe thead th {\n        text-align: right;\n    }\n</style>\n<table border=\"1\" class=\"dataframe\">\n  <thead>\n    <tr style=\"text-align: right;\">\n      <th></th>\n      <th>Grades</th>\n      <th>Score count</th>\n      <th>Score sum</th>\n      <th>Score mean</th>\n      <th>Prop of Total Scores</th>\n    </tr>\n  </thead>\n  <tbody>\n    <tr>\n      <th>0</th>\n      <td>A</td>\n      <td>3</td>\n      <td>2</td>\n      <td>0.666667</td>\n      <td>0.375</td>\n    </tr>\n    <tr>\n      <th>1</th>\n      <td>B</td>\n      <td>2</td>\n      <td>2</td>\n      <td>1.000000</td>\n      <td>0.250</td>\n    </tr>\n    <tr>\n      <th>2</th>\n      <td>C</td>\n      <td>2</td>\n      <td>0</td>\n      <td>0.000000</td>\n      <td>0.250</td>\n    </tr>\n    <tr>\n      <th>3</th>\n      <td>D</td>\n      <td>1</td>\n      <td>1</td>\n      <td>1.000000</td>\n      <td>0.125</td>\n    </tr>\n  </tbody>\n</table>\n</div>"
     },
     "execution_count": 23,
     "metadata": {},
     "output_type": "execute_result"
    }
   ],
   "source": [
    "datadf2['Prop of Total Scores'] = datadf2['Score count']/ datadf2['Score count'].sum()\n",
    "datadf2 # prop of scores gives the fraction of total scores present in each Grade - this is different from the mean of grade-wise score, which the fraction of good scores present wrt scores in a category (not across all grades)."
   ],
   "metadata": {
    "collapsed": false,
    "ExecuteTime": {
     "end_time": "2024-02-17T19:33:41.958529Z",
     "start_time": "2024-02-17T19:33:41.934241Z"
    }
   },
   "id": "c4136520832da52d",
   "execution_count": 23
  }
 ],
 "metadata": {
  "kernelspec": {
   "display_name": "Python 3",
   "language": "python",
   "name": "python3"
  },
  "language_info": {
   "codemirror_mode": {
    "name": "ipython",
    "version": 2
   },
   "file_extension": ".py",
   "mimetype": "text/x-python",
   "name": "python",
   "nbconvert_exporter": "python",
   "pygments_lexer": "ipython2",
   "version": "2.7.6"
  }
 },
 "nbformat": 4,
 "nbformat_minor": 5
}
